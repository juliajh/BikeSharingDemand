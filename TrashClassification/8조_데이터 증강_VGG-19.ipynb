{
 "cells": [
  {
   "cell_type": "markdown",
   "id": "78223976",
   "metadata": {},
   "source": [
    "### 라이브러리"
   ]
  },
  {
   "cell_type": "code",
   "execution_count": 35,
   "id": "7b61f121",
   "metadata": {},
   "outputs": [],
   "source": [
    "import pandas as pd \n",
    "import numpy as np\n",
    "import random\n",
    "import os \n",
    "import matplotlib.pyplot as plt \n",
    "import tensorflow as tf\n",
    "import copy as cp\n",
    "import pathlib\n",
    "from tensorflow.keras import layers\n",
    "\n",
    "from keras.preprocessing.image import ImageDataGenerator\n",
    "from keras.preprocessing.image import array_to_img, img_to_array, load_img\n",
    "from keras.layers import Concatenate"
   ]
  },
  {
   "cell_type": "markdown",
   "id": "2ea815f9",
   "metadata": {},
   "source": [
    "### 데이터 불러오기"
   ]
  },
  {
   "cell_type": "code",
   "execution_count": 36,
   "id": "7203c2b2",
   "metadata": {
    "scrolled": true
   },
   "outputs": [
    {
     "data": {
      "text/plain": [
       "WindowsPath('waste_classifier_dataset')"
      ]
     },
     "execution_count": 36,
     "metadata": {},
     "output_type": "execute_result"
    }
   ],
   "source": [
    "data_dir = pathlib.Path('./waste_classifier_dataset/')\n",
    "data_dir"
   ]
  },
  {
   "cell_type": "code",
   "execution_count": 37,
   "id": "78ceb584",
   "metadata": {},
   "outputs": [
    {
     "name": "stdout",
     "output_type": "stream",
     "text": [
      "Found 5215 files belonging to 4 classes.\n",
      "Using 4694 files for training.\n",
      "Found 5215 files belonging to 4 classes.\n",
      "Using 521 files for validation.\n",
      "['call waste', 'paper', 'recycle', 'waste']\n"
     ]
    }
   ],
   "source": [
    "batch_size = 16\n",
    "img_height = 160\n",
    "img_width = 160\n",
    "\n",
    "train_ds = tf.keras.preprocessing.image_dataset_from_directory(\n",
    "  data_dir,\n",
    "  validation_split=0.1,\n",
    "  subset=\"training\",\n",
    "  seed=123,\n",
    "  image_size=(img_height, img_width),\n",
    "  batch_size=batch_size)\n",
    "\n",
    "val_ds = tf.keras.preprocessing.image_dataset_from_directory(\n",
    "  data_dir,\n",
    "  validation_split=0.1,\n",
    "  subset=\"validation\",\n",
    "  seed=123,\n",
    "  image_size=(img_height, img_width),\n",
    "  batch_size=batch_size)\n",
    "\n",
    "class_names = train_ds.class_names\n",
    "print(class_names)"
   ]
  },
  {
   "cell_type": "markdown",
   "id": "f4ad6e7c",
   "metadata": {},
   "source": [
    "### 데이터 증강"
   ]
  },
  {
   "cell_type": "code",
   "execution_count": 38,
   "id": "028add58",
   "metadata": {},
   "outputs": [],
   "source": [
    "data_augmentation = tf.keras.Sequential([\n",
    "  layers.experimental.preprocessing.RandomFlip(\"horizontal_and_vertical\"),\n",
    "  layers.experimental.preprocessing.RandomRotation(0.2),\n",
    "])"
   ]
  },
  {
   "cell_type": "markdown",
   "id": "a6833bec",
   "metadata": {},
   "source": [
    "### 모델 생성"
   ]
  },
  {
   "cell_type": "code",
   "execution_count": 39,
   "id": "deea752f",
   "metadata": {},
   "outputs": [],
   "source": [
    "from keras.applications.vgg19 import VGG19\n",
    "# 모델 생성\n",
    "from tensorflow.keras.models import Sequential\n",
    "from keras.layers import Dense , Conv2D , MaxPooling2D , Dropout, Flatten \n",
    "\n",
    "\n",
    "base_model = VGG19(input_shape=(img_height, img_width , 3),\n",
    "                                               include_top=False,\n",
    "                                               weights='imagenet')\n",
    "\n",
    "base_model.trainable = False\n",
    "\n",
    "from keras.layers import Dense , GlobalAveragePooling2D\n",
    "\n",
    "global_average_layer = GlobalAveragePooling2D()\n",
    "# prediction_layer = Dense(100)\n",
    "\n",
    "\n",
    "\n",
    "VGGmodel2 = tf.keras.Sequential([\n",
    "  data_augmentation,\n",
    "  base_model,\n",
    "  global_average_layer,\n",
    "  Flatten(),\n",
    "  Dense(64,activation=\"relu\"),\n",
    "  Dense(16,activation=\"relu\"),\n",
    "  Dense(len(class_names), activation=\"softmax\")\n",
    "])\n",
    "\n",
    "\n",
    "VGGmodel2.compile(loss=\"sparse_categorical_crossentropy\",optimizer = 'adam', metrics=[\"accuracy\"])"
   ]
  },
  {
   "cell_type": "code",
   "execution_count": 40,
   "id": "e6eb8694",
   "metadata": {},
   "outputs": [],
   "source": [
    "from keras.callbacks import EarlyStopping , ReduceLROnPlateau\n",
    "\n",
    "learning_rate_reduction=ReduceLROnPlateau(\n",
    "                        monitor= \"val_loss\", \n",
    "                        patience = 3, \n",
    "                        factor = 0.5, \n",
    "                        min_lr=0.0001,\n",
    "                        verbose=1)\n",
    "\n",
    "from tensorflow.keras.callbacks import ModelCheckpoint, EarlyStopping\n",
    "# 학습이 언제 자동 중단 될지를 설정합니다.\n",
    "early_stopping_callback = EarlyStopping(monitor='val_loss', patience=20)\n",
    "\n",
    "#최적화 모델이 저장될 폴더와 모델의 이름을 정합니다.\n",
    "modelpath=\"./data/model/Ch14-4-bestmodel.hdf5\"\n",
    "\n",
    "# 최적화 모델을 업데이트하고 저장합니다.\n",
    "checkpointer = ModelCheckpoint(filepath=modelpath, monitor='val_loss', verbose=0, save_best_only=True)\n",
    "\n"
   ]
  },
  {
   "cell_type": "code",
   "execution_count": 41,
   "id": "74e727d0",
   "metadata": {},
   "outputs": [
    {
     "name": "stdout",
     "output_type": "stream",
     "text": [
      "Epoch 1/20\n",
      "294/294 [==============================] - 15s 46ms/step - loss: 0.5339 - accuracy: 0.8306 - val_loss: 0.2520 - val_accuracy: 0.9040\n",
      "Epoch 2/20\n",
      "294/294 [==============================] - 14s 46ms/step - loss: 0.2853 - accuracy: 0.9003 - val_loss: 0.1721 - val_accuracy: 0.9424\n",
      "Epoch 3/20\n",
      "294/294 [==============================] - 14s 47ms/step - loss: 0.2366 - accuracy: 0.9167 - val_loss: 0.1614 - val_accuracy: 0.9482\n",
      "Epoch 4/20\n",
      "294/294 [==============================] - 14s 47ms/step - loss: 0.2032 - accuracy: 0.9284 - val_loss: 0.1268 - val_accuracy: 0.9559\n",
      "Epoch 5/20\n",
      "294/294 [==============================] - 14s 48ms/step - loss: 0.1874 - accuracy: 0.9301 - val_loss: 0.1363 - val_accuracy: 0.9501\n",
      "Epoch 6/20\n",
      "294/294 [==============================] - 14s 48ms/step - loss: 0.1712 - accuracy: 0.9352 - val_loss: 0.1271 - val_accuracy: 0.9482\n",
      "Epoch 7/20\n",
      "294/294 [==============================] - 14s 48ms/step - loss: 0.1628 - accuracy: 0.9399 - val_loss: 0.1310 - val_accuracy: 0.9367\n",
      "Epoch 8/20\n",
      "294/294 [==============================] - 14s 48ms/step - loss: 0.1641 - accuracy: 0.9386 - val_loss: 0.1129 - val_accuracy: 0.9578\n",
      "Epoch 9/20\n",
      "294/294 [==============================] - 14s 49ms/step - loss: 0.1414 - accuracy: 0.9478 - val_loss: 0.1227 - val_accuracy: 0.9539\n",
      "Epoch 10/20\n",
      "294/294 [==============================] - 14s 49ms/step - loss: 0.1401 - accuracy: 0.9482 - val_loss: 0.1211 - val_accuracy: 0.9501\n",
      "Epoch 11/20\n",
      "294/294 [==============================] - 15s 49ms/step - loss: 0.1381 - accuracy: 0.9480 - val_loss: 0.1358 - val_accuracy: 0.9443\n",
      "Epoch 12/20\n",
      "294/294 [==============================] - 14s 49ms/step - loss: 0.1195 - accuracy: 0.9561 - val_loss: 0.1069 - val_accuracy: 0.9597\n",
      "Epoch 13/20\n",
      "294/294 [==============================] - 15s 49ms/step - loss: 0.1155 - accuracy: 0.9568 - val_loss: 0.1286 - val_accuracy: 0.9520\n",
      "Epoch 14/20\n",
      "294/294 [==============================] - 15s 49ms/step - loss: 0.1076 - accuracy: 0.9597 - val_loss: 0.1434 - val_accuracy: 0.9386\n",
      "Epoch 15/20\n",
      "294/294 [==============================] - 15s 49ms/step - loss: 0.1290 - accuracy: 0.9546 - val_loss: 0.1334 - val_accuracy: 0.9405\n",
      "Epoch 16/20\n",
      "294/294 [==============================] - 15s 49ms/step - loss: 0.1158 - accuracy: 0.9580 - val_loss: 0.1175 - val_accuracy: 0.9463\n",
      "Epoch 17/20\n",
      "294/294 [==============================] - 15s 49ms/step - loss: 0.0999 - accuracy: 0.9631 - val_loss: 0.1273 - val_accuracy: 0.9405\n",
      "Epoch 18/20\n",
      "294/294 [==============================] - 15s 49ms/step - loss: 0.1004 - accuracy: 0.9638 - val_loss: 0.1318 - val_accuracy: 0.9520\n",
      "Epoch 19/20\n",
      "294/294 [==============================] - 15s 49ms/step - loss: 0.0876 - accuracy: 0.9683 - val_loss: 0.1465 - val_accuracy: 0.9520\n",
      "Epoch 20/20\n",
      "294/294 [==============================] - 15s 49ms/step - loss: 0.0897 - accuracy: 0.9676 - val_loss: 0.1699 - val_accuracy: 0.9386\n"
     ]
    }
   ],
   "source": [
    "history= VGGmodel2.fit(train_ds,\n",
    "                    validation_data=val_ds,\n",
    "                    epochs=20,\n",
    "\n",
    "                       \n",
    "                       \n",
    "                       callbacks=[early_stopping_callback,checkpointer]\n",
    "                      )"
   ]
  },
  {
   "cell_type": "markdown",
   "id": "cfc0da44",
   "metadata": {},
   "source": [
    "### 시각화"
   ]
  },
  {
   "cell_type": "code",
   "execution_count": 42,
   "id": "b5505ad0",
   "metadata": {},
   "outputs": [
    {
     "data": {
      "text/plain": [
       "<Figure size 864x288 with 0 Axes>"
      ]
     },
     "metadata": {},
     "output_type": "display_data"
    },
    {
     "data": {
      "image/png": "[encoded data removed]",
      "text/plain": [
       "<Figure size 864x576 with 1 Axes>"
      ]
     },
     "metadata": {
      "needs_background": "light"
     },
     "output_type": "display_data"
    }
   ],
   "source": [
    "import matplotlib.pyplot as plt\n",
    "\n",
    "plt.figure(figsize=(12,4))\n",
    "\n",
    "plt.figure(figsize=(12,8))\n",
    "plt.plot(history.history['loss'],'--',c='red')\n",
    "plt.plot(history.history['val_loss'],'--',c='blue')\n",
    "plt.plot(history.history['accuracy'],c='red')\n",
    "plt.plot(history.history['val_accuracy'],c='blue')\n",
    "plt.legend(['loss','val_loss', 'accuracy','val_acc'])\n",
    "plt.show()"
   ]
  },
  {
   "cell_type": "code",
   "execution_count": 43,
   "id": "e4cfe7ea",
   "metadata": {},
   "outputs": [
    {
     "name": "stdout",
     "output_type": "stream",
     "text": [
      "33/33 [==============================] - 2s 38ms/step - loss: 0.1699 - accuracy: 0.9386\n"
     ]
    },
    {
     "data": {
      "text/plain": [
       "[0.16986876726150513, 0.9385796785354614]"
      ]
     },
     "execution_count": 43,
     "metadata": {},
     "output_type": "execute_result"
    }
   ],
   "source": [
    "VGGmodel2.evaluate(val_ds)\n",
    "# 손실값, 정확도"
   ]
  },
  {
   "cell_type": "markdown",
   "id": "e232ff53",
   "metadata": {},
   "source": [
    "### 테스트"
   ]
  },
  {
   "cell_type": "code",
   "execution_count": 44,
   "id": "153af460",
   "metadata": {},
   "outputs": [
    {
     "name": "stdout",
     "output_type": "stream",
     "text": [
      "(160, 160, 3)\n",
      "(1, 160, 160, 3)\n",
      "This image most likely belongs to recycle with a 47.54 percent confidence.\n"
     ]
    },
    {
     "data": {
      "image/png": "[encoded data removed]",
      "text/plain": [
       "<Figure size 432x288 with 1 Axes>"
      ]
     },
     "metadata": {
      "needs_background": "light"
     },
     "output_type": "display_data"
    }
   ],
   "source": [
    "import keras\n",
    "\n",
    "sunflower_url = \"./test.jpg\"\n",
    "\n",
    "\n",
    "img = keras.preprocessing.image.load_img(\n",
    "    sunflower_url, target_size=(img_height, img_width)\n",
    ")\n",
    "\n",
    "plt.imshow(img)\n",
    "\n",
    "img_array = keras.preprocessing.image.img_to_array(img)\n",
    "print(np.shape(img_array))\n",
    "\n",
    "img_array = tf.expand_dims(img_array, 0) # Create a batch\n",
    "print(np.shape(img_array))\n",
    "\n",
    "predictions = VGGmodel2.predict(img_array)\n",
    "\n",
    "\n",
    "score = tf.nn.softmax(predictions[0])\n",
    "score\n",
    "print(\n",
    "    \"This image most likely belongs to {} with a {:.2f} percent confidence.\"\n",
    "    .format(class_names[np.argmax(score)], 100 * np.max(score))\n",
    ")"
   ]
  },
  {
   "cell_type": "code",
   "execution_count": null,
   "id": "7729ca37",
   "metadata": {},
   "outputs": [],
   "source": []
  }
 ],
 "metadata": {
  "kernelspec": {
   "display_name": "Python 3 (ipykernel)",
   "language": "python",
   "name": "python3"
  },
  "language_info": {
   "codemirror_mode": {
    "name": "ipython",
    "version": 3
   },
   "file_extension": ".py",
   "mimetype": "text/x-python",
   "name": "python",
   "nbconvert_exporter": "python",
   "pygments_lexer": "ipython3",
   "version": "3.7.13"
  }
 },
 "nbformat": 4,
 "nbformat_minor": 5
}
