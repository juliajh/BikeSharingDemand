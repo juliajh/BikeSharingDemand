{
 "cells": [
  {
   "cell_type": "code",
   "execution_count": 9,
   "id": "a28d8d28",
   "metadata": {},
   "outputs": [],
   "source": [
    "from tensorflow.keras.models import load_model\n",
    "from PIL import Image\n",
    "import numpy as np\n",
    "\n",
    "target_names = ['Anger','Fear','Happy','Sad','Surprise']\n",
    "model = load_model('.\\\\model_final_weight\\\\model_final.h5')\n",
    "\n",
    "def LoadPred(load_path):\n",
    "    \n",
    "    img = Image.open(load_path)\n",
    "    x = np.array(img)\n",
    "    x = np.expand_dims(x, axis=0)\n",
    "\n",
    "    pred = model.predict(x)\n",
    "\n",
    "    return target_names[target_names==pred.max()]"
   ]
  },
  {
   "cell_type": "code",
   "execution_count": 10,
   "id": "d4166c7f",
   "metadata": {},
   "outputs": [
    {
     "name": "stdout",
     "output_type": "stream",
     "text": [
      "Anger\n"
     ]
    },
    {
     "name": "stderr",
     "output_type": "stream",
     "text": [
      "C:\\Users\\HP\\miniconda3\\envs\\gpu2.6\\lib\\site-packages\\ipykernel_launcher.py:16: FutureWarning: elementwise comparison failed; returning scalar instead, but in the future will perform elementwise comparison\n",
      "  \n"
     ]
    }
   ],
   "source": [
    "print(LoadPred('.\\\\test_data\\\\02.jpg'))"
   ]
  }
 ],
 "metadata": {
  "kernelspec": {
   "display_name": "Python 3 (ipykernel)",
   "language": "python",
   "name": "python3"
  },
  "language_info": {
   "codemirror_mode": {
    "name": "ipython",
    "version": 3
   },
   "file_extension": ".py",
   "mimetype": "text/x-python",
   "name": "python",
   "nbconvert_exporter": "python",
   "pygments_lexer": "ipython3",
   "version": "3.7.13"
  }
 },
 "nbformat": 4,
 "nbformat_minor": 5
}
