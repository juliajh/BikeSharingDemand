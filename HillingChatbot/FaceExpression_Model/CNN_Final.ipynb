{
 "cells": [
  {
   "cell_type": "code",
   "execution_count": 1,
   "id": "b1df0266",
   "metadata": {},
   "outputs": [],
   "source": [
    "import numpy as np\n",
    "import pandas as pd\n",
    "import matplotlib.pyplot as plt\n",
    "import seaborn as sn\n",
    "import skimage.io\n",
    "import keras.backend as K\n",
    "import tensorflow as tf\n",
    "from tensorflow.keras.preprocessing.image import ImageDataGenerator\n",
    "from tensorflow.keras.applications import ResNet50\n",
    "from tensorflow.keras.applications import DenseNet169\n",
    "\n",
    "from tensorflow.keras.layers import Dense, Flatten, Dropout,BatchNormalization ,Activation\n",
    "from tensorflow.keras.models import Model, Sequential\n",
    "from keras.applications.nasnet import NASNetLarge\n",
    "from tensorflow.keras.callbacks import ReduceLROnPlateau, ModelCheckpoint, EarlyStopping\n",
    "from tensorflow.keras.optimizers import Adam\n",
    "\n",
    "from tensorflow.keras import optimizers\n",
    "from collections import Counter\n",
    "import matplotlib.pyplot as plt\n",
    "\n",
    "from tensorflow.keras.utils import plot_model\n",
    "from IPython.display import Image\n",
    "\n",
    "from sklearn.metrics import classification_report, confusion_matrix\n",
    "from sklearn.metrics import ConfusionMatrixDisplay\n",
    "\n",
    "from tensorflow.keras.layers import Flatten, Dense, Conv2D, MaxPooling2D"
   ]
  },
  {
   "cell_type": "code",
   "execution_count": 2,
   "id": "1f35a1e0",
   "metadata": {},
   "outputs": [],
   "source": [
    "METRICS = [\n",
    "      tf.keras.metrics.TruePositives(name='tp'),\n",
    "      tf.keras.metrics.FalsePositives(name='fp'),\n",
    "      tf.keras.metrics.TrueNegatives(name='tn'),\n",
    "      tf.keras.metrics.FalseNegatives(name='fn'), \n",
    "      tf.keras.metrics.BinaryAccuracy(name='accuracy'),\n",
    "      tf.keras.metrics.Precision(name='precision'),\n",
    "      tf.keras.metrics.Recall(name='recall'),\n",
    "      tf.keras.metrics.AUC(name='auc'),\n",
    "      tf.keras.metrics.AUC(name='prc', curve='PR')\n",
    "]"
   ]
  },
  {
   "cell_type": "code",
   "execution_count": 3,
   "id": "0d9ff146",
   "metadata": {},
   "outputs": [],
   "source": [
    "def Train_Val_Plot2(acc,val_acc,loss,val_loss,auc,val_auc,precision,val_precision,recall,val_recall,prc,val_prc):\n",
    "    \n",
    "    fig, (ax1, ax2,ax3,ax4,ax5,ax6) = plt.subplots(1,6, figsize= (20,5))\n",
    "    fig.suptitle(\" MODEL'S METRICS VISUALIZATION \")\n",
    "\n",
    "    ax1.plot(range(1, len(acc) + 1), acc)\n",
    "    ax1.plot(range(1, len(val_acc) + 1), val_acc)\n",
    "    ax1.set_title('History of Accuracy')\n",
    "    ax1.set_xlabel('Epochs')\n",
    "    ax1.set_ylabel('Accuracy')\n",
    "    ax1.legend(['training', 'validation'])\n",
    "\n",
    "\n",
    "    ax2.plot(range(1, len(loss) + 1), loss)\n",
    "    ax2.plot(range(1, len(val_loss) + 1), val_loss)\n",
    "    ax2.set_title('History of Loss')\n",
    "    ax2.set_xlabel('Epochs')\n",
    "    ax2.set_ylabel('Loss')\n",
    "    ax2.legend(['training', 'validation'])\n",
    "    \n",
    "    ax3.plot(range(1, len(auc) + 1), auc)\n",
    "    ax3.plot(range(1, len(val_auc) + 1), val_auc)\n",
    "    ax3.set_title('History of AUC')\n",
    "    ax3.set_xlabel('Epochs')\n",
    "    ax3.set_ylabel('AUC')\n",
    "    ax3.legend(['training', 'validation'])\n",
    "    \n",
    "    ax4.plot(range(1, len(precision) + 1), precision)\n",
    "    ax4.plot(range(1, len(val_precision) + 1), val_precision)\n",
    "    ax4.set_title('History of Precision')\n",
    "    ax4.set_xlabel('Epochs')\n",
    "    ax4.set_ylabel('Precision')\n",
    "    ax4.legend(['training', 'validation'])\n",
    "    \n",
    "    ax5.plot(range(1, len(recall) + 1), recall)\n",
    "    ax5.plot(range(1, len(val_recall) + 1), val_auc)\n",
    "    ax5.set_title('History of recall')\n",
    "    ax5.set_xlabel('Epochs')\n",
    "    ax5.set_ylabel('recall')\n",
    "    ax5.legend(['training', 'validation'])\n",
    "    \n",
    "    ax6.plot(range(1, len(prc) + 1), prc)\n",
    "    ax6.plot(range(1, len(val_prc) + 1), val_prc)\n",
    "    ax6.set_title('History of prc')\n",
    "    ax6.set_xlabel('Epochs')\n",
    "    ax6.set_ylabel('prc')\n",
    "    ax6.legend(['training', 'validation'])\n",
    "    \n",
    "    recall,val_recall,prc,val_prc\n",
    "    \n",
    "#     ax5.plot(range(1, len(f1) + 1), f1)\n",
    "#     ax5.plot(range(1, len(val_f1) + 1), val_f1)\n",
    "#     ax5.set_title('History of F1-score')\n",
    "#     ax5.set_xlabel('Epochs')\n",
    "#     ax5.set_ylabel('F1 score')\n",
    "#     ax5.legend(['training', 'validation'])\n",
    "\n",
    "\n",
    "    plt.show()"
   ]
  },
  {
   "cell_type": "code",
   "execution_count": 4,
   "id": "d95911ad",
   "metadata": {},
   "outputs": [],
   "source": [
    "def initDataGens():\n",
    "    \n",
    "    train_datagen = ImageDataGenerator(rescale = 1./255,\n",
    "                                   validation_split = 0.2,\n",
    "                                   rotation_range=0.3, #5,\n",
    "                                   width_shift_range=0.2,\n",
    "                                   height_shift_range=0.2,\n",
    "                                   shear_range=0.2,\n",
    "                                   #zoom_range=0.2,\n",
    "                                   horizontal_flip=True,\n",
    "                                   vertical_flip=False,\n",
    "                                   fill_mode='nearest')\n",
    "\n",
    "#     valid_datagen = ImageDataGenerator(rescale = 1./255,\n",
    "#                                   validation_split = 0.2\n",
    "#                                   )\n",
    "\n",
    "    test_datagen  = ImageDataGenerator(rescale = 1./255)\n",
    "\n",
    "\n",
    "    return train_datagen, test_datagen, test_datagen"
   ]
  },
  {
   "cell_type": "code",
   "execution_count": 5,
   "id": "aef5bd64",
   "metadata": {},
   "outputs": [],
   "source": [
    "def initDataSets(train, test, train_datagen, valid_datagen, test_datagen, classes_):\n",
    "    \n",
    "    train_dataset  = train_datagen.flow_from_directory(directory = train,#'../input/fer2013/train',\n",
    "                                                   target_size = (48,48),\n",
    "                                                   class_mode = 'categorical',\n",
    "                                                   classes=classes_,\n",
    "                                                   subset = 'training',\n",
    "                                                   batch_size = 64)\n",
    "\n",
    "    valid_dataset = train_datagen.flow_from_directory(directory = train,#'../input/fer2013/train',\n",
    "                                                  target_size = (48,48),\n",
    "                                                  class_mode = 'categorical',\n",
    "                                                  classes=classes_,\n",
    "                                                  subset = 'validation',\n",
    "                                                  batch_size = 64)\n",
    "    \n",
    "#     valid_dataset = valid_datagen.flow_from_directory(directory = train,#'../input/fer2013/train',\n",
    "#                                                   target_size = (48,48),\n",
    "#                                                   class_mode = 'categorical',\n",
    "#                                                   classes=classes_,\n",
    "#                                                   subset = 'validation',\n",
    "#                                                   batch_size = 64)\n",
    "\n",
    "    test_dataset = test_datagen.flow_from_directory(directory = test, #'../input/fer2013/test',\n",
    "                                                  target_size = (48,48),\n",
    "                                                  class_mode = 'categorical',\n",
    "                                                  classes=classes_,\n",
    "                                                  batch_size = 64)\n",
    "\n",
    "\n",
    "    return train_dataset, valid_dataset, test_dataset"
   ]
  },
  {
   "cell_type": "code",
   "execution_count": 6,
   "id": "a72e0543",
   "metadata": {},
   "outputs": [],
   "source": [
    "def updateBaseModel(base_model, num_classes):\n",
    "    \n",
    "    for layer in base_model.layers[:]:\n",
    "        layer.trainable=True\n",
    "    \n",
    "    # Building Model\n",
    "    model=Sequential()\n",
    "    model.add(base_model)\n",
    "    model.add(Dropout(0.5))\n",
    "    model.add(Flatten())\n",
    "    model.add(BatchNormalization())\n",
    "    model.add(Dense(32,kernel_initializer='he_uniform'))\n",
    "    model.add(BatchNormalization())\n",
    "    model.add(Activation('relu'))\n",
    "    model.add(Dropout(0.5))\n",
    "    model.add(Dense(32,kernel_initializer='he_uniform'))\n",
    "    model.add(BatchNormalization())\n",
    "    model.add(Activation('relu'))\n",
    "    model.add(Dropout(0.5))\n",
    "    model.add(Dense(32,kernel_initializer='he_uniform'))\n",
    "    model.add(BatchNormalization())\n",
    "    model.add(Activation('relu'))\n",
    "    model.add(Dense(num_classes, activation='softmax'))\n",
    "\n",
    "    return model"
   ]
  },
  {
   "cell_type": "code",
   "execution_count": 7,
   "id": "ec4676db",
   "metadata": {},
   "outputs": [],
   "source": [
    "def plot_DG(data_generator):\n",
    "    counter = Counter(data_generator.classes)\n",
    "    data_items = counter.items() # dict_items([(0, 1648), (1, 3614)])\n",
    "    l = list(counter.items())\n",
    "    print(l)\n",
    "#     pd.DataFrame(l, columns=['class','count']).set_index('class').plot(kind='bar', colormap='Set2');\n",
    "    \n",
    "    plt.bar(range(len(l)), [val[1] for val in l], align='center')\n",
    "    plt.xticks(range(len(l)), [val[0] for val in l])\n",
    "    plt.xticks(rotation=70)\n",
    "    plt.show()\n",
    "    \n",
    "#     df = pd.DataFrame(l, columns=['index', 'observers'])\n",
    "#     print(df)\n",
    "# ['Anger', 'Disgust', 'Fear', 'Happy', 'Neutral', 'Sad', 'Surprise']"
   ]
  },
  {
   "cell_type": "code",
   "execution_count": 8,
   "id": "14b64662",
   "metadata": {},
   "outputs": [],
   "source": [
    "def getClassWeights(train_dataset):\n",
    "    \n",
    "    counter = Counter(train_dataset.classes)                          \n",
    "    max_val = float(max(counter.values()))       \n",
    "    class_weights = {class_id : max_val/num_images for class_id, num_images in counter.items()}    \n",
    "    print(class_weights)\n",
    "\n",
    "    return class_weights"
   ]
  },
  {
   "cell_type": "code",
   "execution_count": 9,
   "id": "77df3c97",
   "metadata": {},
   "outputs": [],
   "source": [
    "def getAllForTraining(model, save_h5_to_path, epochs_):\n",
    "    \n",
    "    lrd = ReduceLROnPlateau(\n",
    "        monitor='val_accuracy',\n",
    "        factor=0.5,\n",
    "        patience=7,\n",
    "        min_lr=1e-7,\n",
    "        verbose=1,\n",
    "    )\n",
    "\n",
    "    mcp_5categories = ModelCheckpoint(save_h5_to_path)\n",
    "\n",
    "    # es = EarlyStopping(verbose=1, patience=20)\n",
    "#     es = EarlyStopping(\n",
    "#         monitor='val_accuracy',\n",
    "#         min_delta=0.00005,\n",
    "#         patience=11,\n",
    "#         verbose=1,\n",
    "#         restore_best_weights=True,\n",
    "#     )\n",
    "\n",
    "    # optimizers.Adam(learning_rate=1e-3, decay=1e-3 / epochs)\n",
    "    # model.compile(optimizer='Adam', loss='categorical_crossentropy',metrics=METRICS)\n",
    "    t_epochs = epochs_\n",
    "\n",
    "    optim = optimizers.Adam(learning_rate=1e-3, decay=1e-3 / t_epochs)\n",
    "    model.compile(optimizer=optim, loss='categorical_crossentropy',metrics=METRICS)\n",
    "    model.summary()\n",
    "\n",
    "#     return lrd, mcp_5categories, es, t_epochs, model, t_epochs\n",
    "    return lrd, mcp_5categories, t_epochs, model, t_epochs"
   ]
  },
  {
   "cell_type": "code",
   "execution_count": 10,
   "id": "c26a34d0",
   "metadata": {},
   "outputs": [],
   "source": [
    "def plotConfusionMatrix(model, test_dataset, num_of_test_samples, batch_size, target_names):\n",
    "    \n",
    "    #Confution Matrix and Classification Report\n",
    "    Y_pred = model.predict(test_dataset, num_of_test_samples // batch_size+1)\n",
    "    y_pred = np.argmax(Y_pred, axis=1)\n",
    "    print('Confusion Matrix')\n",
    "    cm = confusion_matrix(test_dataset.classes, y_pred)\n",
    "    print('Classification Report')\n",
    "    print(classification_report(test_dataset.classes, y_pred, target_names=target_names))\n",
    "    disp = ConfusionMatrixDisplay(confusion_matrix=cm, display_labels=target_names)\n",
    "    disp.plot(cmap=plt.cm.Blues)\n",
    "    plt.show()"
   ]
  },
  {
   "cell_type": "code",
   "execution_count": 11,
   "id": "22521d8c",
   "metadata": {},
   "outputs": [
    {
     "name": "stdout",
     "output_type": "stream",
     "text": [
      "Found 13208 images belonging to 5 classes.\n",
      "Found 3300 images belonging to 5 classes.\n",
      "Found 4125 images belonging to 5 classes.\n",
      "{0: 1.0094268476621417, 1: 1.0, 2: 1.0033733133433282, 3: 1.048159749412686, 4: 1.007527286413248}\n",
      "[(0, 2652), (1, 2677), (2, 2668), (3, 2554), (4, 2657)]\n"
     ]
    },
    {
     "data": {
      "image/png": "[encoded data removed]",
      "text/plain": [
       "<Figure size 432x288 with 1 Axes>"
      ]
     },
     "metadata": {
      "needs_background": "light"
     },
     "output_type": "display_data"
    },
    {
     "name": "stdout",
     "output_type": "stream",
     "text": [
      "WARNING:tensorflow:`input_shape` is undefined or non-square, or `rows` is not in [128, 160, 192, 224]. Weights for input shape (224, 224) will be loaded as the default.\n",
      "Model: \"sequential\"\n",
      "_________________________________________________________________\n",
      "Layer (type)                 Output Shape              Param #   \n",
      "=================================================================\n",
      "mobilenet_1.00_224 (Function (None, 1, 1, 1024)        3228864   \n",
      "_________________________________________________________________\n",
      "dropout (Dropout)            (None, 1, 1, 1024)        0         \n",
      "_________________________________________________________________\n",
      "flatten (Flatten)            (None, 1024)              0         \n",
      "_________________________________________________________________\n",
      "batch_normalization (BatchNo (None, 1024)              4096      \n",
      "_________________________________________________________________\n",
      "dense (Dense)                (None, 32)                32800     \n",
      "_________________________________________________________________\n",
      "batch_normalization_1 (Batch (None, 32)                128       \n",
      "_________________________________________________________________\n",
      "activation (Activation)      (None, 32)                0         \n",
      "_________________________________________________________________\n",
      "dropout_1 (Dropout)          (None, 32)                0         \n",
      "_________________________________________________________________\n",
      "dense_1 (Dense)              (None, 32)                1056      \n",
      "_________________________________________________________________\n",
      "batch_normalization_2 (Batch (None, 32)                128       \n",
      "_________________________________________________________________\n",
      "activation_1 (Activation)    (None, 32)                0         \n",
      "_________________________________________________________________\n",
      "dropout_2 (Dropout)          (None, 32)                0         \n",
      "_________________________________________________________________\n",
      "dense_2 (Dense)              (None, 32)                1056      \n",
      "_________________________________________________________________\n",
      "batch_normalization_3 (Batch (None, 32)                128       \n",
      "_________________________________________________________________\n",
      "activation_2 (Activation)    (None, 32)                0         \n",
      "_________________________________________________________________\n",
      "dense_3 (Dense)              (None, 5)                 165       \n",
      "=================================================================\n",
      "Total params: 3,268,421\n",
      "Trainable params: 3,244,293\n",
      "Non-trainable params: 24,128\n",
      "_________________________________________________________________\n"
     ]
    }
   ],
   "source": [
    "# 7 emotions\n",
    "\n",
    "target_names = ['Anger','Fear','Happy','Sad','Surprise']\n",
    "num_classes = len(target_names)\n",
    "train_path = './fer2013pluscleanedaugmballanced1/train'\n",
    "test_path = './fer2013pluscleanedaugmballanced1/test'\n",
    "save_model_h5_to_path = 'MobileNet-Classification-7emotions-CNN.h5'\n",
    "epochs = 100\n",
    "\n",
    "train_datagen, valid_datagen, test_datagen = initDataGens()\n",
    "train_dataset, valid_dataset, test_dataset = initDataSets(train_path, test_path, train_datagen, valid_datagen, test_datagen, target_names)\n",
    "class_weights = getClassWeights(train_dataset)\n",
    "plot_DG(train_dataset)\n",
    "\n",
    "# base_model = tf.keras.applications.ResNet50(input_shape=(48,48,3),include_top=False,weights=\"imagenet\")\n",
    "base_model = tf.keras.applications.MobileNet(input_shape=(48,48,3),include_top=False,weights=\"imagenet\")\n",
    "\n",
    "# model = build_net(optimizers.SGD(learning_rate=0.01, momentum=0.9), 7, METRICS)\n",
    "\n",
    "model = updateBaseModel(base_model, len(target_names))\n",
    "lrd, mcp_5categories, t_epochs, model, t_epochs = getAllForTraining(model, save_model_h5_to_path, epochs)"
   ]
  },
  {
   "cell_type": "code",
   "execution_count": 12,
   "id": "d429c0f1",
   "metadata": {},
   "outputs": [
    {
     "name": "stdout",
     "output_type": "stream",
     "text": [
      "Epoch 1/100\n",
      "207/207 [==============================] - 48s 169ms/step - loss: 1.6157 - tp: 585.0000 - fp: 661.0000 - tn: 52171.0000 - fn: 12623.0000 - accuracy: 0.7988 - precision: 0.4695 - recall: 0.0443 - auc: 0.5965 - prc: 0.2829 - val_loss: 1.4144 - val_tp: 235.0000 - val_fp: 3.0000 - val_tn: 13197.0000 - val_fn: 3065.0000 - val_accuracy: 0.8141 - val_precision: 0.9874 - val_recall: 0.0712 - val_auc: 0.7418 - val_prc: 0.4641\n",
      "Epoch 2/100\n",
      "207/207 [==============================] - 18s 85ms/step - loss: 1.3773 - tp: 1851.0000 - fp: 689.0000 - tn: 52143.0000 - fn: 11357.0000 - accuracy: 0.8176 - precision: 0.7287 - recall: 0.1401 - auc: 0.7435 - prc: 0.4653 - val_loss: 1.1132 - val_tp: 939.0000 - val_fp: 164.0000 - val_tn: 13036.0000 - val_fn: 2361.0000 - val_accuracy: 0.8470 - val_precision: 0.8513 - val_recall: 0.2845 - val_auc: 0.8575 - val_prc: 0.6634\n",
      "Epoch 3/100\n",
      "207/207 [==============================] - 18s 84ms/step - loss: 1.1954 - tp: 3589.0000 - fp: 1123.0000 - tn: 51709.0000 - fn: 9619.0000 - accuracy: 0.8373 - precision: 0.7617 - recall: 0.2717 - auc: 0.8209 - prc: 0.5872 - val_loss: 0.8618 - val_tp: 1405.0000 - val_fp: 192.0000 - val_tn: 13008.0000 - val_fn: 1895.0000 - val_accuracy: 0.8735 - val_precision: 0.8798 - val_recall: 0.4258 - val_auc: 0.9117 - val_prc: 0.7682\n",
      "Epoch 4/100\n",
      "207/207 [==============================] - 18s 86ms/step - loss: 1.0880 - tp: 4529.0000 - fp: 1300.0000 - tn: 51532.0000 - fn: 8679.0000 - accuracy: 0.8489 - precision: 0.7770 - recall: 0.3429 - auc: 0.8545 - prc: 0.6499 - val_loss: 0.8819 - val_tp: 1608.0000 - val_fp: 396.0000 - val_tn: 12804.0000 - val_fn: 1692.0000 - val_accuracy: 0.8735 - val_precision: 0.8024 - val_recall: 0.4873 - val_auc: 0.9010 - val_prc: 0.7565\n",
      "Epoch 5/100\n",
      "207/207 [==============================] - 18s 88ms/step - loss: 1.0129 - tp: 5460.0000 - fp: 1562.0000 - tn: 51270.0000 - fn: 7748.0000 - accuracy: 0.8590 - precision: 0.7776 - recall: 0.4134 - auc: 0.8754 - prc: 0.6922 - val_loss: 0.8193 - val_tp: 1796.0000 - val_fp: 367.0000 - val_tn: 12833.0000 - val_fn: 1504.0000 - val_accuracy: 0.8866 - val_precision: 0.8303 - val_recall: 0.5442 - val_auc: 0.9167 - val_prc: 0.7906\n",
      "Epoch 6/100\n",
      "207/207 [==============================] - 19s 89ms/step - loss: 0.9448 - tp: 6278.0000 - fp: 1638.0000 - tn: 51194.0000 - fn: 6930.0000 - accuracy: 0.8703 - precision: 0.7931 - recall: 0.4753 - auc: 0.8917 - prc: 0.7296 - val_loss: 0.8012 - val_tp: 1883.0000 - val_fp: 423.0000 - val_tn: 12777.0000 - val_fn: 1417.0000 - val_accuracy: 0.8885 - val_precision: 0.8166 - val_recall: 0.5706 - val_auc: 0.9196 - val_prc: 0.7982\n",
      "Epoch 7/100\n",
      "207/207 [==============================] - 17s 82ms/step - loss: 0.9055 - tp: 7014.0000 - fp: 1774.0000 - tn: 51058.0000 - fn: 6194.0000 - accuracy: 0.8793 - precision: 0.7981 - recall: 0.5310 - auc: 0.9008 - prc: 0.7515 - val_loss: 0.6986 - val_tp: 2231.0000 - val_fp: 493.0000 - val_tn: 12707.0000 - val_fn: 1069.0000 - val_accuracy: 0.9053 - val_precision: 0.8190 - val_recall: 0.6761 - val_auc: 0.9386 - val_prc: 0.8400\n",
      "Epoch 8/100\n",
      "207/207 [==============================] - 18s 86ms/step - loss: 0.8683 - tp: 7356.0000 - fp: 1760.0000 - tn: 51072.0000 - fn: 5852.0000 - accuracy: 0.8847 - precision: 0.8069 - recall: 0.5569 - auc: 0.9082 - prc: 0.7688 - val_loss: 0.6654 - val_tp: 2281.0000 - val_fp: 458.0000 - val_tn: 12742.0000 - val_fn: 1019.0000 - val_accuracy: 0.9105 - val_precision: 0.8328 - val_recall: 0.6912 - val_auc: 0.9434 - val_prc: 0.8573\n",
      "Epoch 9/100\n",
      "207/207 [==============================] - 18s 86ms/step - loss: 0.8410 - tp: 7866.0000 - fp: 1866.0000 - tn: 50966.0000 - fn: 5342.0000 - accuracy: 0.8909 - precision: 0.8083 - recall: 0.5955 - auc: 0.9145 - prc: 0.7819 - val_loss: 0.7399 - val_tp: 2144.0000 - val_fp: 527.0000 - val_tn: 12673.0000 - val_fn: 1156.0000 - val_accuracy: 0.8980 - val_precision: 0.8027 - val_recall: 0.6497 - val_auc: 0.9321 - val_prc: 0.8286\n",
      "Epoch 10/100\n",
      "207/207 [==============================] - 17s 84ms/step - loss: 0.8217 - tp: 7952.0000 - fp: 1829.0000 - tn: 51003.0000 - fn: 5256.0000 - accuracy: 0.8927 - precision: 0.8130 - recall: 0.6021 - auc: 0.9180 - prc: 0.7924 - val_loss: 0.5829 - val_tp: 2368.0000 - val_fp: 336.0000 - val_tn: 12864.0000 - val_fn: 932.0000 - val_accuracy: 0.9232 - val_precision: 0.8757 - val_recall: 0.7176 - val_auc: 0.9591 - val_prc: 0.8891\n",
      "Epoch 11/100\n",
      "207/207 [==============================] - 17s 81ms/step - loss: 0.7793 - tp: 8359.0000 - fp: 1802.0000 - tn: 51030.0000 - fn: 4849.0000 - accuracy: 0.8993 - precision: 0.8227 - recall: 0.6329 - auc: 0.9263 - prc: 0.8115 - val_loss: 0.6033 - val_tp: 2341.0000 - val_fp: 348.0000 - val_tn: 12852.0000 - val_fn: 959.0000 - val_accuracy: 0.9208 - val_precision: 0.8706 - val_recall: 0.7094 - val_auc: 0.9549 - val_prc: 0.8832\n",
      "Epoch 12/100\n",
      "207/207 [==============================] - 18s 86ms/step - loss: 0.7905 - tp: 8329.0000 - fp: 1789.0000 - tn: 51043.0000 - fn: 4879.0000 - accuracy: 0.8990 - precision: 0.8232 - recall: 0.6306 - auc: 0.9240 - prc: 0.8081 - val_loss: 0.5993 - val_tp: 2432.0000 - val_fp: 424.0000 - val_tn: 12776.0000 - val_fn: 868.0000 - val_accuracy: 0.9217 - val_precision: 0.8515 - val_recall: 0.7370 - val_auc: 0.9547 - val_prc: 0.8832\n",
      "Epoch 13/100\n",
      "207/207 [==============================] - 17s 84ms/step - loss: 0.7526 - tp: 8731.0000 - fp: 1786.0000 - tn: 51046.0000 - fn: 4477.0000 - accuracy: 0.9052 - precision: 0.8302 - recall: 0.6610 - auc: 0.9302 - prc: 0.8230 - val_loss: 0.5436 - val_tp: 2544.0000 - val_fp: 412.0000 - val_tn: 12788.0000 - val_fn: 756.0000 - val_accuracy: 0.9292 - val_precision: 0.8606 - val_recall: 0.7709 - val_auc: 0.9620 - val_prc: 0.8964\n",
      "Epoch 14/100\n",
      "207/207 [==============================] - 18s 85ms/step - loss: 0.7392 - tp: 8815.0000 - fp: 1755.0000 - tn: 51077.0000 - fn: 4393.0000 - accuracy: 0.9069 - precision: 0.8340 - recall: 0.6674 - auc: 0.9328 - prc: 0.8281 - val_loss: 0.5312 - val_tp: 2564.0000 - val_fp: 403.0000 - val_tn: 12797.0000 - val_fn: 736.0000 - val_accuracy: 0.9310 - val_precision: 0.8642 - val_recall: 0.7770 - val_auc: 0.9637 - val_prc: 0.9044\n",
      "Epoch 15/100\n",
      "207/207 [==============================] - 17s 84ms/step - loss: 0.7359 - tp: 8879.0000 - fp: 1763.0000 - tn: 51069.0000 - fn: 4329.0000 - accuracy: 0.9078 - precision: 0.8343 - recall: 0.6722 - auc: 0.9337 - prc: 0.8301 - val_loss: 0.6489 - val_tp: 2409.0000 - val_fp: 571.0000 - val_tn: 12629.0000 - val_fn: 891.0000 - val_accuracy: 0.9114 - val_precision: 0.8084 - val_recall: 0.7300 - val_auc: 0.9479 - val_prc: 0.8651\n",
      "Epoch 16/100\n",
      "207/207 [==============================] - 17s 82ms/step - loss: 0.7218 - tp: 9012.0000 - fp: 1739.0000 - tn: 51093.0000 - fn: 4196.0000 - accuracy: 0.9101 - precision: 0.8382 - recall: 0.6823 - auc: 0.9356 - prc: 0.8355 - val_loss: 0.5555 - val_tp: 2575.0000 - val_fp: 411.0000 - val_tn: 12789.0000 - val_fn: 725.0000 - val_accuracy: 0.9312 - val_precision: 0.8624 - val_recall: 0.7803 - val_auc: 0.9592 - val_prc: 0.8925\n",
      "Epoch 17/100\n",
      "207/207 [==============================] - 17s 84ms/step - loss: 0.6952 - tp: 9270.0000 - fp: 1702.0000 - tn: 51130.0000 - fn: 3938.0000 - accuracy: 0.9146 - precision: 0.8449 - recall: 0.7018 - auc: 0.9397 - prc: 0.8458 - val_loss: 0.7061 - val_tp: 2381.0000 - val_fp: 571.0000 - val_tn: 12629.0000 - val_fn: 919.0000 - val_accuracy: 0.9097 - val_precision: 0.8066 - val_recall: 0.7215 - val_auc: 0.9373 - val_prc: 0.8423\n",
      "Epoch 18/100\n",
      "207/207 [==============================] - 17s 83ms/step - loss: 0.6931 - tp: 9211.0000 - fp: 1648.0000 - tn: 51184.0000 - fn: 3997.0000 - accuracy: 0.9145 - precision: 0.8482 - recall: 0.6974 - auc: 0.9400 - prc: 0.8467 - val_loss: 0.6684 - val_tp: 2396.0000 - val_fp: 554.0000 - val_tn: 12646.0000 - val_fn: 904.0000 - val_accuracy: 0.9116 - val_precision: 0.8122 - val_recall: 0.7261 - val_auc: 0.9433 - val_prc: 0.8587\n",
      "Epoch 19/100\n",
      "207/207 [==============================] - 18s 89ms/step - loss: 0.6750 - tp: 9496.0000 - fp: 1660.0000 - tn: 51172.0000 - fn: 3712.0000 - accuracy: 0.9187 - precision: 0.8512 - recall: 0.7190 - auc: 0.9426 - prc: 0.8524 - val_loss: 0.6273 - val_tp: 2517.0000 - val_fp: 510.0000 - val_tn: 12690.0000 - val_fn: 783.0000 - val_accuracy: 0.9216 - val_precision: 0.8315 - val_recall: 0.7627 - val_auc: 0.9482 - val_prc: 0.8717\n"
     ]
    },
    {
     "name": "stdout",
     "output_type": "stream",
     "text": [
      "Epoch 20/100\n",
      "207/207 [==============================] - 19s 91ms/step - loss: 0.6606 - tp: 9574.0000 - fp: 1734.0000 - tn: 51098.0000 - fn: 3634.0000 - accuracy: 0.9187 - precision: 0.8467 - recall: 0.7249 - auc: 0.9449 - prc: 0.8597 - val_loss: 0.5046 - val_tp: 2629.0000 - val_fp: 397.0000 - val_tn: 12803.0000 - val_fn: 671.0000 - val_accuracy: 0.9353 - val_precision: 0.8688 - val_recall: 0.7967 - val_auc: 0.9661 - val_prc: 0.9086\n",
      "Epoch 21/100\n",
      "207/207 [==============================] - 16s 79ms/step - loss: 0.6691 - tp: 9464.0000 - fp: 1719.0000 - tn: 51113.0000 - fn: 3744.0000 - accuracy: 0.9173 - precision: 0.8463 - recall: 0.7165 - auc: 0.9437 - prc: 0.8558 - val_loss: 0.5233 - val_tp: 2521.0000 - val_fp: 376.0000 - val_tn: 12824.0000 - val_fn: 779.0000 - val_accuracy: 0.9300 - val_precision: 0.8702 - val_recall: 0.7639 - val_auc: 0.9656 - val_prc: 0.9075\n",
      "Epoch 22/100\n",
      "207/207 [==============================] - 17s 84ms/step - loss: 0.6566 - tp: 9475.0000 - fp: 1684.0000 - tn: 51148.0000 - fn: 3733.0000 - accuracy: 0.9180 - precision: 0.8491 - recall: 0.7174 - auc: 0.9459 - prc: 0.8595 - val_loss: 0.5669 - val_tp: 2488.0000 - val_fp: 406.0000 - val_tn: 12794.0000 - val_fn: 812.0000 - val_accuracy: 0.9262 - val_precision: 0.8597 - val_recall: 0.7539 - val_auc: 0.9583 - val_prc: 0.8917\n",
      "Epoch 23/100\n",
      "207/207 [==============================] - 17s 83ms/step - loss: 0.6511 - tp: 9608.0000 - fp: 1648.0000 - tn: 51184.0000 - fn: 3600.0000 - accuracy: 0.9205 - precision: 0.8536 - recall: 0.7274 - auc: 0.9464 - prc: 0.8637 - val_loss: 0.7015 - val_tp: 2507.0000 - val_fp: 581.0000 - val_tn: 12619.0000 - val_fn: 793.0000 - val_accuracy: 0.9167 - val_precision: 0.8119 - val_recall: 0.7597 - val_auc: 0.9358 - val_prc: 0.8375\n",
      "Epoch 24/100\n",
      "207/207 [==============================] - 17s 84ms/step - loss: 0.6239 - tp: 9778.0000 - fp: 1581.0000 - tn: 51251.0000 - fn: 3430.0000 - accuracy: 0.9241 - precision: 0.8608 - recall: 0.7403 - auc: 0.9503 - prc: 0.8725 - val_loss: 0.5280 - val_tp: 2616.0000 - val_fp: 401.0000 - val_tn: 12799.0000 - val_fn: 684.0000 - val_accuracy: 0.9342 - val_precision: 0.8671 - val_recall: 0.7927 - val_auc: 0.9630 - val_prc: 0.9061\n",
      "Epoch 25/100\n",
      "207/207 [==============================] - 17s 82ms/step - loss: 0.6208 - tp: 9825.0000 - fp: 1597.0000 - tn: 51235.0000 - fn: 3383.0000 - accuracy: 0.9246 - precision: 0.8602 - recall: 0.7439 - auc: 0.9509 - prc: 0.8756 - val_loss: 0.7066 - val_tp: 2395.0000 - val_fp: 576.0000 - val_tn: 12624.0000 - val_fn: 905.0000 - val_accuracy: 0.9102 - val_precision: 0.8061 - val_recall: 0.7258 - val_auc: 0.9380 - val_prc: 0.8408\n",
      "Epoch 26/100\n",
      "207/207 [==============================] - 17s 84ms/step - loss: 0.6190 - tp: 9870.0000 - fp: 1621.0000 - tn: 51211.0000 - fn: 3338.0000 - accuracy: 0.9249 - precision: 0.8589 - recall: 0.7473 - auc: 0.9510 - prc: 0.8729 - val_loss: 0.5502 - val_tp: 2635.0000 - val_fp: 461.0000 - val_tn: 12739.0000 - val_fn: 665.0000 - val_accuracy: 0.9318 - val_precision: 0.8511 - val_recall: 0.7985 - val_auc: 0.9615 - val_prc: 0.9045\n",
      "Epoch 27/100\n",
      "207/207 [==============================] - 18s 84ms/step - loss: 0.6213 - tp: 9786.0000 - fp: 1644.0000 - tn: 51188.0000 - fn: 3422.0000 - accuracy: 0.9233 - precision: 0.8562 - recall: 0.7409 - auc: 0.9509 - prc: 0.8732 - val_loss: 0.5189 - val_tp: 2636.0000 - val_fp: 437.0000 - val_tn: 12763.0000 - val_fn: 664.0000 - val_accuracy: 0.9333 - val_precision: 0.8578 - val_recall: 0.7988 - val_auc: 0.9654 - val_prc: 0.9077\n",
      "\n",
      "Epoch 00027: ReduceLROnPlateau reducing learning rate to 0.0005000000237487257.\n",
      "Epoch 28/100\n",
      "207/207 [==============================] - 18s 86ms/step - loss: 0.5525 - tp: 10204.0000 - fp: 1393.0000 - tn: 51439.0000 - fn: 3004.0000 - accuracy: 0.9334 - precision: 0.8799 - recall: 0.7726 - auc: 0.9608 - prc: 0.8971 - val_loss: 0.4078 - val_tp: 2758.0000 - val_fp: 323.0000 - val_tn: 12877.0000 - val_fn: 542.0000 - val_accuracy: 0.9476 - val_precision: 0.8952 - val_recall: 0.8358 - val_auc: 0.9786 - val_prc: 0.9398\n",
      "Epoch 29/100\n",
      "207/207 [==============================] - 18s 85ms/step - loss: 0.5392 - tp: 10342.0000 - fp: 1413.0000 - tn: 51419.0000 - fn: 2866.0000 - accuracy: 0.9352 - precision: 0.8798 - recall: 0.7830 - auc: 0.9621 - prc: 0.8984 - val_loss: 0.4561 - val_tp: 2728.0000 - val_fp: 377.0000 - val_tn: 12823.0000 - val_fn: 572.0000 - val_accuracy: 0.9425 - val_precision: 0.8786 - val_recall: 0.8267 - val_auc: 0.9725 - val_prc: 0.9271\n",
      "Epoch 30/100\n",
      "207/207 [==============================] - 18s 84ms/step - loss: 0.5339 - tp: 10433.0000 - fp: 1440.0000 - tn: 51392.0000 - fn: 2775.0000 - accuracy: 0.9362 - precision: 0.8787 - recall: 0.7899 - auc: 0.9624 - prc: 0.9020 - val_loss: 0.4263 - val_tp: 2749.0000 - val_fp: 353.0000 - val_tn: 12847.0000 - val_fn: 551.0000 - val_accuracy: 0.9452 - val_precision: 0.8862 - val_recall: 0.8330 - val_auc: 0.9756 - val_prc: 0.9350\n",
      "Epoch 31/100\n",
      "207/207 [==============================] - 18s 85ms/step - loss: 0.5337 - tp: 10477.0000 - fp: 1365.0000 - tn: 51467.0000 - fn: 2731.0000 - accuracy: 0.9380 - precision: 0.8847 - recall: 0.7932 - auc: 0.9624 - prc: 0.9021 - val_loss: 0.4645 - val_tp: 2709.0000 - val_fp: 381.0000 - val_tn: 12819.0000 - val_fn: 591.0000 - val_accuracy: 0.9411 - val_precision: 0.8767 - val_recall: 0.8209 - val_auc: 0.9712 - val_prc: 0.9222\n",
      "Epoch 32/100\n",
      "207/207 [==============================] - 18s 84ms/step - loss: 0.5085 - tp: 10564.0000 - fp: 1305.0000 - tn: 51527.0000 - fn: 2644.0000 - accuracy: 0.9402 - precision: 0.8900 - recall: 0.7998 - auc: 0.9656 - prc: 0.9089 - val_loss: 0.4339 - val_tp: 2792.0000 - val_fp: 376.0000 - val_tn: 12824.0000 - val_fn: 508.0000 - val_accuracy: 0.9464 - val_precision: 0.8813 - val_recall: 0.8461 - val_auc: 0.9752 - val_prc: 0.9331\n",
      "Epoch 33/100\n",
      "207/207 [==============================] - 17s 81ms/step - loss: 0.5076 - tp: 10527.0000 - fp: 1364.0000 - tn: 51468.0000 - fn: 2681.0000 - accuracy: 0.9387 - precision: 0.8853 - recall: 0.7970 - auc: 0.9663 - prc: 0.9104 - val_loss: 0.4071 - val_tp: 2778.0000 - val_fp: 331.0000 - val_tn: 12869.0000 - val_fn: 522.0000 - val_accuracy: 0.9483 - val_precision: 0.8935 - val_recall: 0.8418 - val_auc: 0.9776 - val_prc: 0.9400\n",
      "Epoch 34/100\n",
      "207/207 [==============================] - 18s 87ms/step - loss: 0.5013 - tp: 10607.0000 - fp: 1355.0000 - tn: 51477.0000 - fn: 2601.0000 - accuracy: 0.9401 - precision: 0.8867 - recall: 0.8031 - auc: 0.9667 - prc: 0.9126 - val_loss: 0.4172 - val_tp: 2792.0000 - val_fp: 342.0000 - val_tn: 12858.0000 - val_fn: 508.0000 - val_accuracy: 0.9485 - val_precision: 0.8909 - val_recall: 0.8461 - val_auc: 0.9760 - val_prc: 0.9356\n",
      "Epoch 35/100\n",
      "207/207 [==============================] - 17s 84ms/step - loss: 0.4910 - tp: 10733.0000 - fp: 1337.0000 - tn: 51495.0000 - fn: 2475.0000 - accuracy: 0.9423 - precision: 0.8892 - recall: 0.8126 - auc: 0.9672 - prc: 0.9147 - val_loss: 0.4589 - val_tp: 2738.0000 - val_fp: 391.0000 - val_tn: 12809.0000 - val_fn: 562.0000 - val_accuracy: 0.9422 - val_precision: 0.8750 - val_recall: 0.8297 - val_auc: 0.9732 - val_prc: 0.9267\n",
      "Epoch 36/100\n",
      "207/207 [==============================] - 18s 86ms/step - loss: 0.4926 - tp: 10741.0000 - fp: 1363.0000 - tn: 51469.0000 - fn: 2467.0000 - accuracy: 0.9420 - precision: 0.8874 - recall: 0.8132 - auc: 0.9677 - prc: 0.9139 - val_loss: 0.3793 - val_tp: 2853.0000 - val_fp: 307.0000 - val_tn: 12893.0000 - val_fn: 447.0000 - val_accuracy: 0.9543 - val_precision: 0.9028 - val_recall: 0.8645 - val_auc: 0.9800 - val_prc: 0.9480\n",
      "Epoch 37/100\n",
      "207/207 [==============================] - 17s 81ms/step - loss: 0.4859 - tp: 10698.0000 - fp: 1276.0000 - tn: 51556.0000 - fn: 2510.0000 - accuracy: 0.9427 - precision: 0.8934 - recall: 0.8100 - auc: 0.9688 - prc: 0.9178 - val_loss: 0.4063 - val_tp: 2784.0000 - val_fp: 344.0000 - val_tn: 12856.0000 - val_fn: 516.0000 - val_accuracy: 0.9479 - val_precision: 0.8900 - val_recall: 0.8436 - val_auc: 0.9783 - val_prc: 0.9400\n",
      "Epoch 38/100\n",
      "207/207 [==============================] - 17s 83ms/step - loss: 0.4738 - tp: 10827.0000 - fp: 1249.0000 - tn: 51583.0000 - fn: 2381.0000 - accuracy: 0.9450 - precision: 0.8966 - recall: 0.8197 - auc: 0.9693 - prc: 0.9192 - val_loss: 0.4228 - val_tp: 2795.0000 - val_fp: 370.0000 - val_tn: 12830.0000 - val_fn: 505.0000 - val_accuracy: 0.9470 - val_precision: 0.8831 - val_recall: 0.8470 - val_auc: 0.9772 - val_prc: 0.9378\n"
     ]
    },
    {
     "name": "stdout",
     "output_type": "stream",
     "text": [
      "Epoch 39/100\n",
      "207/207 [==============================] - 17s 84ms/step - loss: 0.4740 - tp: 10774.0000 - fp: 1283.0000 - tn: 51549.0000 - fn: 2434.0000 - accuracy: 0.9437 - precision: 0.8936 - recall: 0.8157 - auc: 0.9701 - prc: 0.9204 - val_loss: 0.4642 - val_tp: 2719.0000 - val_fp: 354.0000 - val_tn: 12846.0000 - val_fn: 581.0000 - val_accuracy: 0.9433 - val_precision: 0.8848 - val_recall: 0.8239 - val_auc: 0.9705 - val_prc: 0.9235\n",
      "Epoch 40/100\n",
      "207/207 [==============================] - 18s 86ms/step - loss: 0.4551 - tp: 10909.0000 - fp: 1237.0000 - tn: 51595.0000 - fn: 2299.0000 - accuracy: 0.9465 - precision: 0.8982 - recall: 0.8259 - auc: 0.9718 - prc: 0.9246 - val_loss: 0.4689 - val_tp: 2757.0000 - val_fp: 389.0000 - val_tn: 12811.0000 - val_fn: 543.0000 - val_accuracy: 0.9435 - val_precision: 0.8764 - val_recall: 0.8355 - val_auc: 0.9705 - val_prc: 0.9262\n",
      "Epoch 41/100\n",
      "207/207 [==============================] - 17s 84ms/step - loss: 0.4519 - tp: 10949.0000 - fp: 1227.0000 - tn: 51605.0000 - fn: 2259.0000 - accuracy: 0.9472 - precision: 0.8992 - recall: 0.8290 - auc: 0.9724 - prc: 0.9268 - val_loss: 0.4512 - val_tp: 2750.0000 - val_fp: 385.0000 - val_tn: 12815.0000 - val_fn: 550.0000 - val_accuracy: 0.9433 - val_precision: 0.8772 - val_recall: 0.8333 - val_auc: 0.9737 - val_prc: 0.9295\n",
      "Epoch 42/100\n",
      "207/207 [==============================] - 18s 85ms/step - loss: 0.4646 - tp: 10838.0000 - fp: 1260.0000 - tn: 51572.0000 - fn: 2370.0000 - accuracy: 0.9450 - precision: 0.8959 - recall: 0.8206 - auc: 0.9710 - prc: 0.9229 - val_loss: 0.4358 - val_tp: 2788.0000 - val_fp: 340.0000 - val_tn: 12860.0000 - val_fn: 512.0000 - val_accuracy: 0.9484 - val_precision: 0.8913 - val_recall: 0.8448 - val_auc: 0.9740 - val_prc: 0.9338\n",
      "Epoch 43/100\n",
      "207/207 [==============================] - 18s 86ms/step - loss: 0.4519 - tp: 10988.0000 - fp: 1219.0000 - tn: 51613.0000 - fn: 2220.0000 - accuracy: 0.9479 - precision: 0.9001 - recall: 0.8319 - auc: 0.9722 - prc: 0.9254 - val_loss: 0.4237 - val_tp: 2799.0000 - val_fp: 372.0000 - val_tn: 12828.0000 - val_fn: 501.0000 - val_accuracy: 0.9471 - val_precision: 0.8827 - val_recall: 0.8482 - val_auc: 0.9760 - val_prc: 0.9376\n",
      "\n",
      "Epoch 00043: ReduceLROnPlateau reducing learning rate to 0.0002500000118743628.\n",
      "Epoch 44/100\n",
      "207/207 [==============================] - 17s 84ms/step - loss: 0.4168 - tp: 11149.0000 - fp: 1141.0000 - tn: 51691.0000 - fn: 2059.0000 - accuracy: 0.9515 - precision: 0.9072 - recall: 0.8441 - auc: 0.9761 - prc: 0.9350 - val_loss: 0.3820 - val_tp: 2826.0000 - val_fp: 314.0000 - val_tn: 12886.0000 - val_fn: 474.0000 - val_accuracy: 0.9522 - val_precision: 0.9000 - val_recall: 0.8564 - val_auc: 0.9796 - val_prc: 0.9456\n",
      "Epoch 45/100\n",
      "207/207 [==============================] - 17s 83ms/step - loss: 0.4017 - tp: 11233.0000 - fp: 1108.0000 - tn: 51724.0000 - fn: 1975.0000 - accuracy: 0.9533 - precision: 0.9102 - recall: 0.8505 - auc: 0.9776 - prc: 0.9381 - val_loss: 0.3689 - val_tp: 2863.0000 - val_fp: 317.0000 - val_tn: 12883.0000 - val_fn: 437.0000 - val_accuracy: 0.9543 - val_precision: 0.9003 - val_recall: 0.8676 - val_auc: 0.9815 - val_prc: 0.9497\n",
      "Epoch 46/100\n",
      "207/207 [==============================] - 18s 86ms/step - loss: 0.3897 - tp: 11298.0000 - fp: 1081.0000 - tn: 51751.0000 - fn: 1910.0000 - accuracy: 0.9547 - precision: 0.9127 - recall: 0.8554 - auc: 0.9785 - prc: 0.9413 - val_loss: 0.3952 - val_tp: 2817.0000 - val_fp: 337.0000 - val_tn: 12863.0000 - val_fn: 483.0000 - val_accuracy: 0.9503 - val_precision: 0.8932 - val_recall: 0.8536 - val_auc: 0.9789 - val_prc: 0.9425\n",
      "Epoch 47/100\n",
      "207/207 [==============================] - 18s 88ms/step - loss: 0.3812 - tp: 11337.0000 - fp: 1028.0000 - tn: 51804.0000 - fn: 1871.0000 - accuracy: 0.9561 - precision: 0.9169 - recall: 0.8583 - auc: 0.9796 - prc: 0.9450 - val_loss: 0.3774 - val_tp: 2850.0000 - val_fp: 320.0000 - val_tn: 12880.0000 - val_fn: 450.0000 - val_accuracy: 0.9533 - val_precision: 0.8991 - val_recall: 0.8636 - val_auc: 0.9810 - val_prc: 0.9481\n",
      "Epoch 48/100\n",
      "207/207 [==============================] - 18s 86ms/step - loss: 0.3790 - tp: 11359.0000 - fp: 1023.0000 - tn: 51809.0000 - fn: 1849.0000 - accuracy: 0.9565 - precision: 0.9174 - recall: 0.8600 - auc: 0.9797 - prc: 0.9442 - val_loss: 0.3834 - val_tp: 2838.0000 - val_fp: 308.0000 - val_tn: 12892.0000 - val_fn: 462.0000 - val_accuracy: 0.9533 - val_precision: 0.9021 - val_recall: 0.8600 - val_auc: 0.9796 - val_prc: 0.9464\n",
      "Epoch 49/100\n",
      "207/207 [==============================] - 17s 81ms/step - loss: 0.3789 - tp: 11352.0000 - fp: 1038.0000 - tn: 51794.0000 - fn: 1856.0000 - accuracy: 0.9562 - precision: 0.9162 - recall: 0.8595 - auc: 0.9797 - prc: 0.9445 - val_loss: 0.3726 - val_tp: 2852.0000 - val_fp: 309.0000 - val_tn: 12891.0000 - val_fn: 448.0000 - val_accuracy: 0.9541 - val_precision: 0.9022 - val_recall: 0.8642 - val_auc: 0.9807 - val_prc: 0.9488\n",
      "Epoch 50/100\n",
      "207/207 [==============================] - 17s 83ms/step - loss: 0.3723 - tp: 11412.0000 - fp: 1043.0000 - tn: 51789.0000 - fn: 1796.0000 - accuracy: 0.9570 - precision: 0.9163 - recall: 0.8640 - auc: 0.9803 - prc: 0.9472 - val_loss: 0.3713 - val_tp: 2868.0000 - val_fp: 322.0000 - val_tn: 12878.0000 - val_fn: 432.0000 - val_accuracy: 0.9543 - val_precision: 0.8991 - val_recall: 0.8691 - val_auc: 0.9810 - val_prc: 0.9496\n",
      "\n",
      "Epoch 00050: ReduceLROnPlateau reducing learning rate to 0.0001250000059371814.\n",
      "Epoch 51/100\n",
      "207/207 [==============================] - 17s 83ms/step - loss: 0.3634 - tp: 11489.0000 - fp: 1022.0000 - tn: 51810.0000 - fn: 1719.0000 - accuracy: 0.9585 - precision: 0.9183 - recall: 0.8699 - auc: 0.9809 - prc: 0.9483 - val_loss: 0.3744 - val_tp: 2842.0000 - val_fp: 332.0000 - val_tn: 12868.0000 - val_fn: 458.0000 - val_accuracy: 0.9521 - val_precision: 0.8954 - val_recall: 0.8612 - val_auc: 0.9812 - val_prc: 0.9488\n",
      "Epoch 52/100\n",
      "207/207 [==============================] - 18s 85ms/step - loss: 0.3515 - tp: 11490.0000 - fp: 962.0000 - tn: 51870.0000 - fn: 1718.0000 - accuracy: 0.9594 - precision: 0.9227 - recall: 0.8699 - auc: 0.9823 - prc: 0.9514 - val_loss: 0.3536 - val_tp: 2898.0000 - val_fp: 289.0000 - val_tn: 12911.0000 - val_fn: 402.0000 - val_accuracy: 0.9581 - val_precision: 0.9093 - val_recall: 0.8782 - val_auc: 0.9820 - val_prc: 0.9516\n",
      "Epoch 53/100\n",
      "207/207 [==============================] - 17s 82ms/step - loss: 0.3472 - tp: 11560.0000 - fp: 924.0000 - tn: 51908.0000 - fn: 1648.0000 - accuracy: 0.9611 - precision: 0.9260 - recall: 0.8752 - auc: 0.9826 - prc: 0.9523 - val_loss: 0.3684 - val_tp: 2872.0000 - val_fp: 312.0000 - val_tn: 12888.0000 - val_fn: 428.0000 - val_accuracy: 0.9552 - val_precision: 0.9020 - val_recall: 0.8703 - val_auc: 0.9812 - val_prc: 0.9493\n",
      "Epoch 54/100\n",
      "207/207 [==============================] - 18s 85ms/step - loss: 0.3488 - tp: 11504.0000 - fp: 969.0000 - tn: 51863.0000 - fn: 1704.0000 - accuracy: 0.9595 - precision: 0.9223 - recall: 0.8710 - auc: 0.9825 - prc: 0.9517 - val_loss: 0.3591 - val_tp: 2861.0000 - val_fp: 305.0000 - val_tn: 12895.0000 - val_fn: 439.0000 - val_accuracy: 0.9549 - val_precision: 0.9037 - val_recall: 0.8670 - val_auc: 0.9811 - val_prc: 0.9503\n",
      "Epoch 55/100\n",
      "207/207 [==============================] - 18s 87ms/step - loss: 0.3349 - tp: 11592.0000 - fp: 946.0000 - tn: 51886.0000 - fn: 1616.0000 - accuracy: 0.9612 - precision: 0.9245 - recall: 0.8776 - auc: 0.9836 - prc: 0.9550 - val_loss: 0.3628 - val_tp: 2853.0000 - val_fp: 332.0000 - val_tn: 12868.0000 - val_fn: 447.0000 - val_accuracy: 0.9528 - val_precision: 0.8958 - val_recall: 0.8645 - val_auc: 0.9823 - val_prc: 0.9521\n",
      "Epoch 56/100\n",
      "207/207 [==============================] - 17s 83ms/step - loss: 0.3213 - tp: 11674.0000 - fp: 891.0000 - tn: 51941.0000 - fn: 1534.0000 - accuracy: 0.9633 - precision: 0.9291 - recall: 0.8839 - auc: 0.9848 - prc: 0.9579 - val_loss: 0.3682 - val_tp: 2853.0000 - val_fp: 303.0000 - val_tn: 12897.0000 - val_fn: 447.0000 - val_accuracy: 0.9545 - val_precision: 0.9040 - val_recall: 0.8645 - val_auc: 0.9806 - val_prc: 0.9483\n",
      "Epoch 57/100\n",
      "207/207 [==============================] - 18s 85ms/step - loss: 0.3332 - tp: 11606.0000 - fp: 913.0000 - tn: 51919.0000 - fn: 1602.0000 - accuracy: 0.9619 - precision: 0.9271 - recall: 0.8787 - auc: 0.9837 - prc: 0.9559 - val_loss: 0.3665 - val_tp: 2861.0000 - val_fp: 311.0000 - val_tn: 12889.0000 - val_fn: 439.0000 - val_accuracy: 0.9545 - val_precision: 0.9020 - val_recall: 0.8670 - val_auc: 0.9809 - val_prc: 0.9481\n",
      "Epoch 58/100\n",
      "207/207 [==============================] - 18s 85ms/step - loss: 0.3175 - tp: 11703.0000 - fp: 889.0000 - tn: 51943.0000 - fn: 1505.0000 - accuracy: 0.9637 - precision: 0.9294 - recall: 0.8861 - auc: 0.9851 - prc: 0.9580 - val_loss: 0.3606 - val_tp: 2864.0000 - val_fp: 321.0000 - val_tn: 12879.0000 - val_fn: 436.0000 - val_accuracy: 0.9541 - val_precision: 0.8992 - val_recall: 0.8679 - val_auc: 0.9821 - val_prc: 0.9505\n",
      "Epoch 59/100\n",
      "207/207 [==============================] - 18s 85ms/step - loss: 0.3250 - tp: 11653.0000 - fp: 937.0000 - tn: 51895.0000 - fn: 1555.0000 - accuracy: 0.9623 - precision: 0.9256 - recall: 0.8823 - auc: 0.9845 - prc: 0.9574 - val_loss: 0.3616 - val_tp: 2879.0000 - val_fp: 308.0000 - val_tn: 12892.0000 - val_fn: 421.0000 - val_accuracy: 0.9558 - val_precision: 0.9034 - val_recall: 0.8724 - val_auc: 0.9809 - val_prc: 0.9490\n",
      "\n",
      "Epoch 00059: ReduceLROnPlateau reducing learning rate to 6.25000029685907e-05.\n",
      "Epoch 60/100\n",
      "207/207 [==============================] - 18s 85ms/step - loss: 0.3131 - tp: 11711.0000 - fp: 885.0000 - tn: 51947.0000 - fn: 1497.0000 - accuracy: 0.9639 - precision: 0.9297 - recall: 0.8867 - auc: 0.9857 - prc: 0.9603 - val_loss: 0.3798 - val_tp: 2859.0000 - val_fp: 338.0000 - val_tn: 12862.0000 - val_fn: 441.0000 - val_accuracy: 0.9528 - val_precision: 0.8943 - val_recall: 0.8664 - val_auc: 0.9798 - val_prc: 0.9466\n",
      "Epoch 61/100\n",
      "207/207 [==============================] - 18s 85ms/step - loss: 0.3105 - tp: 11749.0000 - fp: 872.0000 - tn: 51960.0000 - fn: 1459.0000 - accuracy: 0.9647 - precision: 0.9309 - recall: 0.8895 - auc: 0.9858 - prc: 0.9603 - val_loss: 0.3545 - val_tp: 2880.0000 - val_fp: 317.0000 - val_tn: 12883.0000 - val_fn: 420.0000 - val_accuracy: 0.9553 - val_precision: 0.9008 - val_recall: 0.8727 - val_auc: 0.9827 - val_prc: 0.9534\n",
      "Epoch 62/100\n",
      "207/207 [==============================] - 17s 83ms/step - loss: 0.3121 - tp: 11722.0000 - fp: 867.0000 - tn: 51965.0000 - fn: 1486.0000 - accuracy: 0.9644 - precision: 0.9311 - recall: 0.8875 - auc: 0.9852 - prc: 0.9592 - val_loss: 0.3526 - val_tp: 2878.0000 - val_fp: 306.0000 - val_tn: 12894.0000 - val_fn: 422.0000 - val_accuracy: 0.9559 - val_precision: 0.9039 - val_recall: 0.8721 - val_auc: 0.9825 - val_prc: 0.9534\n",
      "Epoch 63/100\n",
      "207/207 [==============================] - 18s 87ms/step - loss: 0.2993 - tp: 11784.0000 - fp: 849.0000 - tn: 51983.0000 - fn: 1424.0000 - accuracy: 0.9656 - precision: 0.9328 - recall: 0.8922 - auc: 0.9869 - prc: 0.9633 - val_loss: 0.3553 - val_tp: 2871.0000 - val_fp: 313.0000 - val_tn: 12887.0000 - val_fn: 429.0000 - val_accuracy: 0.9550 - val_precision: 0.9017 - val_recall: 0.8700 - val_auc: 0.9819 - val_prc: 0.9531\n",
      "Epoch 64/100\n",
      "207/207 [==============================] - 18s 85ms/step - loss: 0.2942 - tp: 11804.0000 - fp: 838.0000 - tn: 51994.0000 - fn: 1404.0000 - accuracy: 0.9661 - precision: 0.9337 - recall: 0.8937 - auc: 0.9874 - prc: 0.9647 - val_loss: 0.3775 - val_tp: 2866.0000 - val_fp: 331.0000 - val_tn: 12869.0000 - val_fn: 434.0000 - val_accuracy: 0.9536 - val_precision: 0.8965 - val_recall: 0.8685 - val_auc: 0.9805 - val_prc: 0.9471\n",
      "Epoch 65/100\n",
      "207/207 [==============================] - 17s 82ms/step - loss: 0.3027 - tp: 11783.0000 - fp: 841.0000 - tn: 51991.0000 - fn: 1425.0000 - accuracy: 0.9657 - precision: 0.9334 - recall: 0.8921 - auc: 0.9863 - prc: 0.9621 - val_loss: 0.3806 - val_tp: 2870.0000 - val_fp: 310.0000 - val_tn: 12890.0000 - val_fn: 430.0000 - val_accuracy: 0.9552 - val_precision: 0.9025 - val_recall: 0.8697 - val_auc: 0.9791 - val_prc: 0.9454\n",
      "Epoch 66/100\n",
      "207/207 [==============================] - 18s 89ms/step - loss: 0.3009 - tp: 11789.0000 - fp: 825.0000 - tn: 52007.0000 - fn: 1419.0000 - accuracy: 0.9660 - precision: 0.9346 - recall: 0.8926 - auc: 0.9865 - prc: 0.9624 - val_loss: 0.3464 - val_tp: 2893.0000 - val_fp: 296.0000 - val_tn: 12904.0000 - val_fn: 407.0000 - val_accuracy: 0.9574 - val_precision: 0.9072 - val_recall: 0.8767 - val_auc: 0.9817 - val_prc: 0.9532\n",
      "\n",
      "Epoch 00066: ReduceLROnPlateau reducing learning rate to 3.125000148429535e-05.\n",
      "Epoch 67/100\n",
      "207/207 [==============================] - 18s 86ms/step - loss: 0.2987 - tp: 11786.0000 - fp: 843.0000 - tn: 51989.0000 - fn: 1422.0000 - accuracy: 0.9657 - precision: 0.9332 - recall: 0.8923 - auc: 0.9864 - prc: 0.9621 - val_loss: 0.3587 - val_tp: 2884.0000 - val_fp: 308.0000 - val_tn: 12892.0000 - val_fn: 416.0000 - val_accuracy: 0.9561 - val_precision: 0.9035 - val_recall: 0.8739 - val_auc: 0.9818 - val_prc: 0.9513\n",
      "Epoch 68/100\n",
      "207/207 [==============================] - 18s 85ms/step - loss: 0.3016 - tp: 11808.0000 - fp: 870.0000 - tn: 51962.0000 - fn: 1400.0000 - accuracy: 0.9656 - precision: 0.9314 - recall: 0.8940 - auc: 0.9860 - prc: 0.9616 - val_loss: 0.3524 - val_tp: 2887.0000 - val_fp: 294.0000 - val_tn: 12906.0000 - val_fn: 413.0000 - val_accuracy: 0.9572 - val_precision: 0.9076 - val_recall: 0.8748 - val_auc: 0.9814 - val_prc: 0.9532\n",
      "Epoch 69/100\n",
      "207/207 [==============================] - 18s 85ms/step - loss: 0.2936 - tp: 11822.0000 - fp: 797.0000 - tn: 52035.0000 - fn: 1386.0000 - accuracy: 0.9669 - precision: 0.9368 - recall: 0.8951 - auc: 0.9871 - prc: 0.9639 - val_loss: 0.3637 - val_tp: 2885.0000 - val_fp: 305.0000 - val_tn: 12895.0000 - val_fn: 415.0000 - val_accuracy: 0.9564 - val_precision: 0.9044 - val_recall: 0.8742 - val_auc: 0.9809 - val_prc: 0.9498\n",
      "Epoch 70/100\n",
      "207/207 [==============================] - 18s 87ms/step - loss: 0.2870 - tp: 11876.0000 - fp: 792.0000 - tn: 52040.0000 - fn: 1332.0000 - accuracy: 0.9678 - precision: 0.9375 - recall: 0.8992 - auc: 0.9872 - prc: 0.9653 - val_loss: 0.3700 - val_tp: 2883.0000 - val_fp: 317.0000 - val_tn: 12883.0000 - val_fn: 417.0000 - val_accuracy: 0.9555 - val_precision: 0.9009 - val_recall: 0.8736 - val_auc: 0.9807 - val_prc: 0.9492\n",
      "Epoch 71/100\n",
      "207/207 [==============================] - 17s 83ms/step - loss: 0.2932 - tp: 11861.0000 - fp: 809.0000 - tn: 52023.0000 - fn: 1347.0000 - accuracy: 0.9674 - precision: 0.9361 - recall: 0.8980 - auc: 0.9866 - prc: 0.9639 - val_loss: 0.3615 - val_tp: 2886.0000 - val_fp: 324.0000 - val_tn: 12876.0000 - val_fn: 414.0000 - val_accuracy: 0.9553 - val_precision: 0.8991 - val_recall: 0.8745 - val_auc: 0.9804 - val_prc: 0.9507\n",
      "Epoch 72/100\n",
      "207/207 [==============================] - 17s 83ms/step - loss: 0.2895 - tp: 11834.0000 - fp: 838.0000 - tn: 51994.0000 - fn: 1374.0000 - accuracy: 0.9665 - precision: 0.9339 - recall: 0.8960 - auc: 0.9874 - prc: 0.9647 - val_loss: 0.3544 - val_tp: 2888.0000 - val_fp: 315.0000 - val_tn: 12885.0000 - val_fn: 412.0000 - val_accuracy: 0.9559 - val_precision: 0.9017 - val_recall: 0.8752 - val_auc: 0.9808 - val_prc: 0.9506\n",
      "Epoch 73/100\n",
      "207/207 [==============================] - 18s 87ms/step - loss: 0.2836 - tp: 11822.0000 - fp: 800.0000 - tn: 52032.0000 - fn: 1386.0000 - accuracy: 0.9669 - precision: 0.9366 - recall: 0.8951 - auc: 0.9879 - prc: 0.9663 - val_loss: 0.3646 - val_tp: 2888.0000 - val_fp: 315.0000 - val_tn: 12885.0000 - val_fn: 412.0000 - val_accuracy: 0.9559 - val_precision: 0.9017 - val_recall: 0.8752 - val_auc: 0.9805 - val_prc: 0.9494\n",
      "\n",
      "Epoch 00073: ReduceLROnPlateau reducing learning rate to 1.5625000742147677e-05.\n",
      "Epoch 74/100\n",
      "207/207 [==============================] - 17s 84ms/step - loss: 0.2895 - tp: 11861.0000 - fp: 787.0000 - tn: 52045.0000 - fn: 1347.0000 - accuracy: 0.9677 - precision: 0.9378 - recall: 0.8980 - auc: 0.9875 - prc: 0.9655 - val_loss: 0.3803 - val_tp: 2887.0000 - val_fp: 316.0000 - val_tn: 12884.0000 - val_fn: 413.0000 - val_accuracy: 0.9558 - val_precision: 0.9013 - val_recall: 0.8748 - val_auc: 0.9794 - val_prc: 0.9459\n",
      "Epoch 75/100\n"
     ]
    },
    {
     "name": "stdout",
     "output_type": "stream",
     "text": [
      "207/207 [==============================] - 18s 85ms/step - loss: 0.2838 - tp: 11883.0000 - fp: 827.0000 - tn: 52005.0000 - fn: 1325.0000 - accuracy: 0.9674 - precision: 0.9349 - recall: 0.8997 - auc: 0.9877 - prc: 0.9659 - val_loss: 0.3657 - val_tp: 2881.0000 - val_fp: 324.0000 - val_tn: 12876.0000 - val_fn: 419.0000 - val_accuracy: 0.9550 - val_precision: 0.8989 - val_recall: 0.8730 - val_auc: 0.9810 - val_prc: 0.9504\n",
      "Epoch 76/100\n",
      "207/207 [==============================] - 18s 87ms/step - loss: 0.2830 - tp: 11900.0000 - fp: 798.0000 - tn: 52034.0000 - fn: 1308.0000 - accuracy: 0.9681 - precision: 0.9372 - recall: 0.9010 - auc: 0.9878 - prc: 0.9665 - val_loss: 0.3608 - val_tp: 2880.0000 - val_fp: 320.0000 - val_tn: 12880.0000 - val_fn: 420.0000 - val_accuracy: 0.9552 - val_precision: 0.9000 - val_recall: 0.8727 - val_auc: 0.9822 - val_prc: 0.9521\n",
      "Epoch 77/100\n",
      "207/207 [==============================] - 18s 86ms/step - loss: 0.2783 - tp: 11925.0000 - fp: 796.0000 - tn: 52036.0000 - fn: 1283.0000 - accuracy: 0.9685 - precision: 0.9374 - recall: 0.9029 - auc: 0.9884 - prc: 0.9667 - val_loss: 0.3608 - val_tp: 2887.0000 - val_fp: 304.0000 - val_tn: 12896.0000 - val_fn: 413.0000 - val_accuracy: 0.9565 - val_precision: 0.9047 - val_recall: 0.8748 - val_auc: 0.9817 - val_prc: 0.9511\n",
      "Epoch 78/100\n",
      "207/207 [==============================] - 18s 86ms/step - loss: 0.2817 - tp: 11918.0000 - fp: 756.0000 - tn: 52076.0000 - fn: 1290.0000 - accuracy: 0.9690 - precision: 0.9404 - recall: 0.9023 - auc: 0.9874 - prc: 0.9663 - val_loss: 0.3631 - val_tp: 2893.0000 - val_fp: 312.0000 - val_tn: 12888.0000 - val_fn: 407.0000 - val_accuracy: 0.9564 - val_precision: 0.9027 - val_recall: 0.8767 - val_auc: 0.9821 - val_prc: 0.9515\n",
      "Epoch 79/100\n",
      "207/207 [==============================] - 18s 84ms/step - loss: 0.2892 - tp: 11845.0000 - fp: 815.0000 - tn: 52017.0000 - fn: 1363.0000 - accuracy: 0.9670 - precision: 0.9356 - recall: 0.8968 - auc: 0.9872 - prc: 0.9642 - val_loss: 0.3765 - val_tp: 2872.0000 - val_fp: 322.0000 - val_tn: 12878.0000 - val_fn: 428.0000 - val_accuracy: 0.9545 - val_precision: 0.8992 - val_recall: 0.8703 - val_auc: 0.9799 - val_prc: 0.9476\n",
      "Epoch 80/100\n",
      "207/207 [==============================] - 17s 83ms/step - loss: 0.2830 - tp: 11886.0000 - fp: 802.0000 - tn: 52030.0000 - fn: 1322.0000 - accuracy: 0.9678 - precision: 0.9368 - recall: 0.8999 - auc: 0.9879 - prc: 0.9662 - val_loss: 0.3712 - val_tp: 2892.0000 - val_fp: 312.0000 - val_tn: 12888.0000 - val_fn: 408.0000 - val_accuracy: 0.9564 - val_precision: 0.9026 - val_recall: 0.8764 - val_auc: 0.9795 - val_prc: 0.9476\n",
      "\n",
      "Epoch 00080: ReduceLROnPlateau reducing learning rate to 7.812500371073838e-06.\n",
      "Epoch 81/100\n",
      "207/207 [==============================] - 17s 84ms/step - loss: 0.2830 - tp: 11900.0000 - fp: 793.0000 - tn: 52039.0000 - fn: 1308.0000 - accuracy: 0.9682 - precision: 0.9375 - recall: 0.9010 - auc: 0.9880 - prc: 0.9666 - val_loss: 0.3682 - val_tp: 2881.0000 - val_fp: 308.0000 - val_tn: 12892.0000 - val_fn: 419.0000 - val_accuracy: 0.9559 - val_precision: 0.9034 - val_recall: 0.8730 - val_auc: 0.9801 - val_prc: 0.9492\n",
      "Epoch 82/100\n",
      "207/207 [==============================] - 17s 84ms/step - loss: 0.2876 - tp: 11886.0000 - fp: 783.0000 - tn: 52049.0000 - fn: 1322.0000 - accuracy: 0.9681 - precision: 0.9382 - recall: 0.8999 - auc: 0.9871 - prc: 0.9647 - val_loss: 0.3514 - val_tp: 2894.0000 - val_fp: 302.0000 - val_tn: 12898.0000 - val_fn: 406.0000 - val_accuracy: 0.9571 - val_precision: 0.9055 - val_recall: 0.8770 - val_auc: 0.9821 - val_prc: 0.9526\n",
      "Epoch 83/100\n",
      "207/207 [==============================] - 18s 85ms/step - loss: 0.2807 - tp: 11924.0000 - fp: 778.0000 - tn: 52054.0000 - fn: 1284.0000 - accuracy: 0.9688 - precision: 0.9387 - recall: 0.9028 - auc: 0.9880 - prc: 0.9666 - val_loss: 0.3446 - val_tp: 2918.0000 - val_fp: 280.0000 - val_tn: 12920.0000 - val_fn: 382.0000 - val_accuracy: 0.9599 - val_precision: 0.9124 - val_recall: 0.8842 - val_auc: 0.9819 - val_prc: 0.9518\n",
      "Epoch 84/100\n",
      "207/207 [==============================] - 18s 86ms/step - loss: 0.2818 - tp: 11873.0000 - fp: 798.0000 - tn: 52034.0000 - fn: 1335.0000 - accuracy: 0.9677 - precision: 0.9370 - recall: 0.8989 - auc: 0.9878 - prc: 0.9662 - val_loss: 0.3511 - val_tp: 2910.0000 - val_fp: 289.0000 - val_tn: 12911.0000 - val_fn: 390.0000 - val_accuracy: 0.9588 - val_precision: 0.9097 - val_recall: 0.8818 - val_auc: 0.9812 - val_prc: 0.9520\n",
      "Epoch 85/100\n",
      "207/207 [==============================] - 18s 85ms/step - loss: 0.2736 - tp: 11931.0000 - fp: 755.0000 - tn: 52077.0000 - fn: 1277.0000 - accuracy: 0.9692 - precision: 0.9405 - recall: 0.9033 - auc: 0.9886 - prc: 0.9681 - val_loss: 0.3533 - val_tp: 2879.0000 - val_fp: 297.0000 - val_tn: 12903.0000 - val_fn: 421.0000 - val_accuracy: 0.9565 - val_precision: 0.9065 - val_recall: 0.8724 - val_auc: 0.9809 - val_prc: 0.9508\n",
      "Epoch 86/100\n",
      "207/207 [==============================] - 18s 87ms/step - loss: 0.2761 - tp: 11930.0000 - fp: 769.0000 - tn: 52063.0000 - fn: 1278.0000 - accuracy: 0.9690 - precision: 0.9394 - recall: 0.9032 - auc: 0.9883 - prc: 0.9670 - val_loss: 0.3607 - val_tp: 2874.0000 - val_fp: 301.0000 - val_tn: 12899.0000 - val_fn: 426.0000 - val_accuracy: 0.9559 - val_precision: 0.9052 - val_recall: 0.8709 - val_auc: 0.9813 - val_prc: 0.9512\n",
      "Epoch 87/100\n",
      "207/207 [==============================] - 18s 89ms/step - loss: 0.2799 - tp: 11863.0000 - fp: 777.0000 - tn: 52055.0000 - fn: 1345.0000 - accuracy: 0.9679 - precision: 0.9385 - recall: 0.8982 - auc: 0.9883 - prc: 0.9671 - val_loss: 0.3596 - val_tp: 2882.0000 - val_fp: 303.0000 - val_tn: 12897.0000 - val_fn: 418.0000 - val_accuracy: 0.9563 - val_precision: 0.9049 - val_recall: 0.8733 - val_auc: 0.9816 - val_prc: 0.9506\n",
      "Epoch 88/100\n",
      "207/207 [==============================] - 18s 86ms/step - loss: 0.2805 - tp: 11915.0000 - fp: 786.0000 - tn: 52046.0000 - fn: 1293.0000 - accuracy: 0.9685 - precision: 0.9381 - recall: 0.9021 - auc: 0.9878 - prc: 0.9664 - val_loss: 0.3681 - val_tp: 2907.0000 - val_fp: 302.0000 - val_tn: 12898.0000 - val_fn: 393.0000 - val_accuracy: 0.9579 - val_precision: 0.9059 - val_recall: 0.8809 - val_auc: 0.9802 - val_prc: 0.9493\n",
      "Epoch 89/100\n",
      "207/207 [==============================] - 18s 86ms/step - loss: 0.2702 - tp: 11949.0000 - fp: 779.0000 - tn: 52053.0000 - fn: 1259.0000 - accuracy: 0.9691 - precision: 0.9388 - recall: 0.9047 - auc: 0.9891 - prc: 0.9688 - val_loss: 0.3570 - val_tp: 2889.0000 - val_fp: 291.0000 - val_tn: 12909.0000 - val_fn: 411.0000 - val_accuracy: 0.9575 - val_precision: 0.9085 - val_recall: 0.8755 - val_auc: 0.9815 - val_prc: 0.9529\n",
      "Epoch 90/100\n",
      "207/207 [==============================] - 17s 84ms/step - loss: 0.2731 - tp: 11899.0000 - fp: 800.0000 - tn: 52032.0000 - fn: 1309.0000 - accuracy: 0.9681 - precision: 0.9370 - recall: 0.9009 - auc: 0.9887 - prc: 0.9683 - val_loss: 0.3624 - val_tp: 2884.0000 - val_fp: 303.0000 - val_tn: 12897.0000 - val_fn: 416.0000 - val_accuracy: 0.9564 - val_precision: 0.9049 - val_recall: 0.8739 - val_auc: 0.9817 - val_prc: 0.9510\n",
      "\n",
      "Epoch 00090: ReduceLROnPlateau reducing learning rate to 3.906250185536919e-06.\n",
      "Epoch 91/100\n",
      "207/207 [==============================] - 18s 85ms/step - loss: 0.2885 - tp: 11887.0000 - fp: 793.0000 - tn: 52039.0000 - fn: 1321.0000 - accuracy: 0.9680 - precision: 0.9375 - recall: 0.9000 - auc: 0.9873 - prc: 0.9644 - val_loss: 0.3466 - val_tp: 2921.0000 - val_fp: 293.0000 - val_tn: 12907.0000 - val_fn: 379.0000 - val_accuracy: 0.9593 - val_precision: 0.9088 - val_recall: 0.8852 - val_auc: 0.9817 - val_prc: 0.9529\n",
      "Epoch 92/100\n",
      "207/207 [==============================] - 18s 87ms/step - loss: 0.2859 - tp: 11895.0000 - fp: 813.0000 - tn: 52019.0000 - fn: 1313.0000 - accuracy: 0.9678 - precision: 0.9360 - recall: 0.9006 - auc: 0.9870 - prc: 0.9634 - val_loss: 0.3651 - val_tp: 2889.0000 - val_fp: 321.0000 - val_tn: 12879.0000 - val_fn: 411.0000 - val_accuracy: 0.9556 - val_precision: 0.9000 - val_recall: 0.8755 - val_auc: 0.9805 - val_prc: 0.9494\n",
      "Epoch 93/100\n",
      "207/207 [==============================] - 18s 87ms/step - loss: 0.2705 - tp: 11972.0000 - fp: 753.0000 - tn: 52079.0000 - fn: 1236.0000 - accuracy: 0.9699 - precision: 0.9408 - recall: 0.9064 - auc: 0.9888 - prc: 0.9689 - val_loss: 0.3583 - val_tp: 2911.0000 - val_fp: 293.0000 - val_tn: 12907.0000 - val_fn: 389.0000 - val_accuracy: 0.9587 - val_precision: 0.9086 - val_recall: 0.8821 - val_auc: 0.9813 - val_prc: 0.9501\n",
      "Epoch 94/100\n",
      "207/207 [==============================] - 17s 84ms/step - loss: 0.2820 - tp: 11905.0000 - fp: 768.0000 - tn: 52064.0000 - fn: 1303.0000 - accuracy: 0.9686 - precision: 0.9394 - recall: 0.9013 - auc: 0.9877 - prc: 0.9662 - val_loss: 0.3703 - val_tp: 2894.0000 - val_fp: 326.0000 - val_tn: 12874.0000 - val_fn: 406.0000 - val_accuracy: 0.9556 - val_precision: 0.8988 - val_recall: 0.8770 - val_auc: 0.9809 - val_prc: 0.9496\n",
      "Epoch 95/100\n",
      "207/207 [==============================] - 18s 85ms/step - loss: 0.2836 - tp: 11904.0000 - fp: 784.0000 - tn: 52048.0000 - fn: 1304.0000 - accuracy: 0.9684 - precision: 0.9382 - recall: 0.9013 - auc: 0.9873 - prc: 0.9648 - val_loss: 0.3569 - val_tp: 2906.0000 - val_fp: 303.0000 - val_tn: 12897.0000 - val_fn: 394.0000 - val_accuracy: 0.9578 - val_precision: 0.9056 - val_recall: 0.8806 - val_auc: 0.9806 - val_prc: 0.9494\n",
      "Epoch 96/100\n",
      "207/207 [==============================] - 18s 86ms/step - loss: 0.2784 - tp: 11918.0000 - fp: 805.0000 - tn: 52027.0000 - fn: 1290.0000 - accuracy: 0.9683 - precision: 0.9367 - recall: 0.9023 - auc: 0.9882 - prc: 0.9669 - val_loss: 0.3539 - val_tp: 2893.0000 - val_fp: 303.0000 - val_tn: 12897.0000 - val_fn: 407.0000 - val_accuracy: 0.9570 - val_precision: 0.9052 - val_recall: 0.8767 - val_auc: 0.9814 - val_prc: 0.9523\n",
      "Epoch 97/100\n",
      "207/207 [==============================] - 18s 86ms/step - loss: 0.2895 - tp: 11895.0000 - fp: 820.0000 - tn: 52012.0000 - fn: 1313.0000 - accuracy: 0.9677 - precision: 0.9355 - recall: 0.9006 - auc: 0.9870 - prc: 0.9638 - val_loss: 0.3776 - val_tp: 2877.0000 - val_fp: 321.0000 - val_tn: 12879.0000 - val_fn: 423.0000 - val_accuracy: 0.9549 - val_precision: 0.8996 - val_recall: 0.8718 - val_auc: 0.9806 - val_prc: 0.9483\n",
      "\n",
      "Epoch 00097: ReduceLROnPlateau reducing learning rate to 1.9531250927684596e-06.\n",
      "Epoch 98/100\n",
      "207/207 [==============================] - 18s 84ms/step - loss: 0.2780 - tp: 11894.0000 - fp: 796.0000 - tn: 52036.0000 - fn: 1314.0000 - accuracy: 0.9680 - precision: 0.9373 - recall: 0.9005 - auc: 0.9882 - prc: 0.9668 - val_loss: 0.3543 - val_tp: 2914.0000 - val_fp: 297.0000 - val_tn: 12903.0000 - val_fn: 386.0000 - val_accuracy: 0.9586 - val_precision: 0.9075 - val_recall: 0.8830 - val_auc: 0.9822 - val_prc: 0.9529\n",
      "Epoch 99/100\n",
      "207/207 [==============================] - 17s 82ms/step - loss: 0.2780 - tp: 11920.0000 - fp: 750.0000 - tn: 52082.0000 - fn: 1288.0000 - accuracy: 0.9691 - precision: 0.9408 - recall: 0.9025 - auc: 0.9882 - prc: 0.9675 - val_loss: 0.3570 - val_tp: 2895.0000 - val_fp: 298.0000 - val_tn: 12902.0000 - val_fn: 405.0000 - val_accuracy: 0.9574 - val_precision: 0.9067 - val_recall: 0.8773 - val_auc: 0.9813 - val_prc: 0.9516\n",
      "Epoch 100/100\n",
      "207/207 [==============================] - 18s 86ms/step - loss: 0.2743 - tp: 11920.0000 - fp: 770.0000 - tn: 52062.0000 - fn: 1288.0000 - accuracy: 0.9688 - precision: 0.9393 - recall: 0.9025 - auc: 0.9886 - prc: 0.9680 - val_loss: 0.3598 - val_tp: 2906.0000 - val_fp: 303.0000 - val_tn: 12897.0000 - val_fn: 394.0000 - val_accuracy: 0.9578 - val_precision: 0.9056 - val_recall: 0.8806 - val_auc: 0.9814 - val_prc: 0.9521\n"
     ]
    }
   ],
   "source": [
    "# history1 = model.fit(train_dataset,validation_data=valid_dataset,epochs = 200,verbose = 1,callbacks=[lrd,mcp_5categories,es], class_weight=class_weights)\n",
    "history1 = model.fit(train_dataset, validation_data=valid_dataset, epochs=100, verbose=1, callbacks=[lrd,mcp_5categories], class_weight=class_weights)"
   ]
  },
  {
   "cell_type": "code",
   "execution_count": 13,
   "id": "c49aa222",
   "metadata": {},
   "outputs": [
    {
     "data": {
      "image/png": "[encoded data removed]",
      "text/plain": [
       "<Figure size 1440x360 with 6 Axes>"
      ]
     },
     "metadata": {
      "needs_background": "light"
     },
     "output_type": "display_data"
    }
   ],
   "source": [
    "Train_Val_Plot2(history1.history['accuracy'],history1.history['val_accuracy'],\n",
    "               history1.history['loss'],history1.history['val_loss'],\n",
    "               history1.history['auc'],history1.history['val_auc'],\n",
    "               history1.history['precision'],history1.history['val_precision'],\n",
    "               history1.history['recall'],history1.history['val_recall'],\n",
    "               history1.history['prc'],history1.history['val_prc']\n",
    "              )"
   ]
  },
  {
   "cell_type": "code",
   "execution_count": 104,
   "id": "73e50013",
   "metadata": {},
   "outputs": [],
   "source": [
    "# model.save(\"model_final.h5\")"
   ]
  },
  {
   "cell_type": "code",
   "execution_count": 15,
   "id": "0b6a4a5c",
   "metadata": {},
   "outputs": [],
   "source": [
    "# from tensorflow.keras.models import load_model\n",
    "\n",
    "# model = load_model('\\\\model_final_weight\\\\model_final.h5')"
   ]
  },
  {
   "cell_type": "code",
   "execution_count": 98,
   "id": "118ee4e1",
   "metadata": {},
   "outputs": [
    {
     "data": {
      "text/plain": [
       "(1, 48, 48, 3)"
      ]
     },
     "execution_count": 98,
     "metadata": {},
     "output_type": "execute_result"
    }
   ],
   "source": [
    "from PIL import Image\n",
    " \n",
    "img = Image.open(\"\\\\test_data\\\\02.jpg\")\n",
    "x = np.array(img)\n",
    "x = np.expand_dims(x, axis=0)\n",
    "\n",
    "np.shape(x)"
   ]
  },
  {
   "cell_type": "code",
   "execution_count": 99,
   "id": "1c59b641",
   "metadata": {},
   "outputs": [],
   "source": [
    "pred = model.predict(x)"
   ]
  },
  {
   "cell_type": "code",
   "execution_count": 100,
   "id": "9abfa6e2",
   "metadata": {},
   "outputs": [
    {
     "name": "stderr",
     "output_type": "stream",
     "text": [
      "C:\\Users\\HP\\miniconda3\\envs\\gpu2.6\\lib\\site-packages\\ipykernel_launcher.py:1: FutureWarning: elementwise comparison failed; returning scalar instead, but in the future will perform elementwise comparison\n",
      "  \"\"\"Entry point for launching an IPython kernel.\n"
     ]
    },
    {
     "data": {
      "text/plain": [
       "'Anger'"
      ]
     },
     "execution_count": 100,
     "metadata": {},
     "output_type": "execute_result"
    }
   ],
   "source": [
    "target_names[target_names==pred.max()]"
   ]
  },
  {
   "cell_type": "code",
   "execution_count": 101,
   "id": "5ebf5a78",
   "metadata": {},
   "outputs": [
    {
     "name": "stderr",
     "output_type": "stream",
     "text": [
      "C:\\Users\\HP\\miniconda3\\envs\\gpu2.6\\lib\\site-packages\\ipykernel_launcher.py:7: FutureWarning: elementwise comparison failed; returning scalar instead, but in the future will perform elementwise comparison\n",
      "  import sys\n"
     ]
    },
    {
     "data": {
      "text/plain": [
       "'Anger'"
      ]
     },
     "execution_count": 101,
     "metadata": {},
     "output_type": "execute_result"
    }
   ],
   "source": [
    "img = Image.open(\"\\\\test_data\\\\03.jpg\")\n",
    "x = np.array(img)\n",
    "x = np.expand_dims(x, axis=0)\n",
    "\n",
    "pred = model.predict(x)\n",
    "\n",
    "target_names[target_names==pred.max()]"
   ]
  },
  {
   "cell_type": "code",
   "execution_count": 102,
   "id": "93911d7f",
   "metadata": {},
   "outputs": [
    {
     "name": "stderr",
     "output_type": "stream",
     "text": [
      "C:\\Users\\HP\\miniconda3\\envs\\gpu2.6\\lib\\site-packages\\ipykernel_launcher.py:7: FutureWarning: elementwise comparison failed; returning scalar instead, but in the future will perform elementwise comparison\n",
      "  import sys\n"
     ]
    },
    {
     "data": {
      "text/plain": [
       "'Anger'"
      ]
     },
     "execution_count": 102,
     "metadata": {},
     "output_type": "execute_result"
    }
   ],
   "source": [
    "##### 답: Happy / 오답 나옴: Anger\n",
    "\n",
    "img = Image.open(\"\\\\test_data\\\\04.jpg\")\n",
    "x = np.array(img)\n",
    "x = np.expand_dims(x, axis=0)\n",
    "\n",
    "pred = model.predict(x)\n",
    "\n",
    "target_names[target_names==pred.max()]"
   ]
  },
  {
   "cell_type": "code",
   "execution_count": null,
   "id": "911c1a94",
   "metadata": {},
   "outputs": [],
   "source": []
  }
 ],
 "metadata": {
  "kernelspec": {
   "display_name": "Python 3 (ipykernel)",
   "language": "python",
   "name": "python3"
  },
  "language_info": {
   "codemirror_mode": {
    "name": "ipython",
    "version": 3
   },
   "file_extension": ".py",
   "mimetype": "text/x-python",
   "name": "python",
   "nbconvert_exporter": "python",
   "pygments_lexer": "ipython3",
   "version": "3.7.13"
  }
 },
 "nbformat": 4,
 "nbformat_minor": 5
}
